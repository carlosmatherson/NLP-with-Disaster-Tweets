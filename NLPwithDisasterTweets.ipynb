{
 "cells": [
  {
   "cell_type": "markdown",
   "id": "88be58e7",
   "metadata": {
    "_cell_guid": "7957945d-2ff0-4f63-a9b3-523798f87106",
    "_uuid": "b93b6b21-bc76-4be3-b6cd-1a3d46249ec7",
    "collapsed": false,
    "jupyter": {
     "outputs_hidden": false
    },
    "papermill": {
     "duration": 0.009123,
     "end_time": "2025-04-19T07:19:55.582082",
     "exception": false,
     "start_time": "2025-04-19T07:19:55.572959",
     "status": "completed"
    },
    "tags": []
   },
   "source": [
    "# Disaster Tweets!\n",
    "\n",
    "University of Colorado Boulder\n",
    "\n",
    "DTSA 5511 Week 4\n",
    "\n",
    "## 1. Introduction\n",
    "\n",
    "In the digital age, twitter is an important avenue for humann connection and news. When disaster strikes, people turn to twitter to share the news in real time. This kind of immediate warning is incredibly helpful for disaster response teams and emergency services.\n",
    "\n",
    "However, effectively monitoring twitter for disaster updates proves to be a challenge as not every tweet containing words associated with disasters are reporting disasters. There is overlap between disaster-related terms and words used for informal communication and exageration.\n",
    "\n",
    "This project addresses this challenge by building a machine learning model that can distringuish between tweets reporting real disasters and those using figurative language using natural language processing techniques (NLP) and recurrent neural networks (RNNs), specifically gated recurrent units (GRUs).\n",
    "\n",
    "The data used in this project is a dataset of 10000 hand-classified tweets, where each tweet has been labeled as either a real disaster (1) or not (0). \n",
    "\n",
    "In this notebook, I explore the data; preprocess the text from the tweets; build, train, and evaluate a GRU; then fine-tune it to achieve a good result.\n",
    "\n",
    "## 2. Import Modules"
   ]
  },
  {
   "cell_type": "code",
   "execution_count": 1,
   "id": "70ece85f",
   "metadata": {
    "_cell_guid": "11d426de-b615-4bc2-a1a6-9f57169df469",
    "_uuid": "6441214b-ef4c-4f95-8a99-7ec9f4f9c72f",
    "collapsed": false,
    "execution": {
     "iopub.execute_input": "2025-04-19T07:19:55.599310Z",
     "iopub.status.busy": "2025-04-19T07:19:55.598951Z",
     "iopub.status.idle": "2025-04-19T07:20:16.824834Z",
     "shell.execute_reply": "2025-04-19T07:20:16.823766Z"
    },
    "jupyter": {
     "outputs_hidden": false
    },
    "papermill": {
     "duration": 21.237338,
     "end_time": "2025-04-19T07:20:16.827318",
     "exception": false,
     "start_time": "2025-04-19T07:19:55.589980",
     "status": "completed"
    },
    "tags": []
   },
   "outputs": [
    {
     "name": "stderr",
     "output_type": "stream",
     "text": [
      "2025-04-19 07:20:01.803571: E external/local_xla/xla/stream_executor/cuda/cuda_fft.cc:477] Unable to register cuFFT factory: Attempting to register factory for plugin cuFFT when one has already been registered\n",
      "WARNING: All log messages before absl::InitializeLog() is called are written to STDERR\n",
      "E0000 00:00:1745047202.085744      13 cuda_dnn.cc:8310] Unable to register cuDNN factory: Attempting to register factory for plugin cuDNN when one has already been registered\n",
      "E0000 00:00:1745047202.168920      13 cuda_blas.cc:1418] Unable to register cuBLAS factory: Attempting to register factory for plugin cuBLAS when one has already been registered\n"
     ]
    }
   ],
   "source": [
    "# basic\n",
    "import numpy as np\n",
    "import pandas as pd\n",
    "import re\n",
    "import warnings\n",
    "import os\n",
    "\n",
    "# plotting\n",
    "import matplotlib.pyplot as plt\n",
    "import seaborn as sns\n",
    "\n",
    "# sklearn\n",
    "from sklearn.model_selection import train_test_split\n",
    "from sklearn.metrics import classification_report, confusion_matrix, f1_score\n",
    "\n",
    "# tensorflow\n",
    "import tensorflow as tf\n",
    "from tensorflow.keras.preprocessing.text import Tokenizer\n",
    "from tensorflow.keras.preprocessing.sequence import pad_sequences\n",
    "from tensorflow.keras.models import Model, Sequential\n",
    "from tensorflow.keras.layers import Input, Embedding, SpatialDropout1D, GRU, Dense\n",
    "from tensorflow.keras.callbacks import EarlyStopping, ModelCheckpoint\n",
    "from tensorflow.keras.optimizers import Adam\n",
    "\n",
    "warnings.filterwarnings('ignore')"
   ]
  },
  {
   "cell_type": "code",
   "execution_count": 2,
   "id": "757cf7b9",
   "metadata": {
    "_cell_guid": "e52063b1-8049-405a-9b5b-e01715495d9f",
    "_uuid": "6ecfb983-fef4-4e84-a65e-39398bd36031",
    "collapsed": false,
    "execution": {
     "iopub.execute_input": "2025-04-19T07:20:16.857738Z",
     "iopub.status.busy": "2025-04-19T07:20:16.856817Z",
     "iopub.status.idle": "2025-04-19T07:20:16.863681Z",
     "shell.execute_reply": "2025-04-19T07:20:16.862679Z"
    },
    "jupyter": {
     "outputs_hidden": false
    },
    "papermill": {
     "duration": 0.023442,
     "end_time": "2025-04-19T07:20:16.865277",
     "exception": false,
     "start_time": "2025-04-19T07:20:16.841835",
     "status": "completed"
    },
    "tags": []
   },
   "outputs": [],
   "source": [
    "# random seed for reproducibility\n",
    "np.random.seed(19)\n",
    "tf.random.set_seed(19)"
   ]
  },
  {
   "cell_type": "markdown",
   "id": "7a3c04cb",
   "metadata": {
    "_cell_guid": "6e762a84-6a26-4ab6-bc6b-aa0c56c4334e",
    "_uuid": "859d97af-bdd1-4307-9b75-7df6c17ae299",
    "collapsed": false,
    "jupyter": {
     "outputs_hidden": false
    },
    "papermill": {
     "duration": 0.007799,
     "end_time": "2025-04-19T07:20:16.881634",
     "exception": false,
     "start_time": "2025-04-19T07:20:16.873835",
     "status": "completed"
    },
    "tags": []
   },
   "source": [
    "## 3. Load Data"
   ]
  },
  {
   "cell_type": "code",
   "execution_count": 3,
   "id": "1accc26b",
   "metadata": {
    "_cell_guid": "2919c4c6-d258-45ab-a540-443c6ced29de",
    "_uuid": "990f9705-9ae3-4f03-8ad4-1b0da9c77dde",
    "collapsed": false,
    "execution": {
     "iopub.execute_input": "2025-04-19T07:20:16.899658Z",
     "iopub.status.busy": "2025-04-19T07:20:16.899260Z",
     "iopub.status.idle": "2025-04-19T07:20:16.981142Z",
     "shell.execute_reply": "2025-04-19T07:20:16.980040Z"
    },
    "jupyter": {
     "outputs_hidden": false
    },
    "papermill": {
     "duration": 0.093262,
     "end_time": "2025-04-19T07:20:16.982955",
     "exception": false,
     "start_time": "2025-04-19T07:20:16.889693",
     "status": "completed"
    },
    "tags": []
   },
   "outputs": [],
   "source": [
    "# Load the datasets\n",
    "train_df = pd.read_csv('/kaggle/input/nlp-getting-started/train.csv')\n",
    "test_df = pd.read_csv('/kaggle/input/nlp-getting-started/test.csv')"
   ]
  },
  {
   "cell_type": "markdown",
   "id": "d690d81a",
   "metadata": {
    "_cell_guid": "51c38cc6-07b0-4b5a-815a-ba59c9a5db7b",
    "_uuid": "9c50ac74-6659-4a6a-9cdc-331595f7dafc",
    "collapsed": false,
    "jupyter": {
     "outputs_hidden": false
    },
    "papermill": {
     "duration": 0.007652,
     "end_time": "2025-04-19T07:20:16.998830",
     "exception": false,
     "start_time": "2025-04-19T07:20:16.991178",
     "status": "completed"
    },
    "tags": []
   },
   "source": [
    "## 4. Explore Data"
   ]
  },
  {
   "cell_type": "code",
   "execution_count": 4,
   "id": "a3258759",
   "metadata": {
    "_cell_guid": "496bc61a-84d4-41b2-98d7-d113f33ee957",
    "_uuid": "9b8d97c2-335c-4670-a657-7f0dbdfdca27",
    "collapsed": false,
    "execution": {
     "iopub.execute_input": "2025-04-19T07:20:17.019414Z",
     "iopub.status.busy": "2025-04-19T07:20:17.018388Z",
     "iopub.status.idle": "2025-04-19T07:20:17.025922Z",
     "shell.execute_reply": "2025-04-19T07:20:17.024812Z"
    },
    "jupyter": {
     "outputs_hidden": false
    },
    "papermill": {
     "duration": 0.018377,
     "end_time": "2025-04-19T07:20:17.027538",
     "exception": false,
     "start_time": "2025-04-19T07:20:17.009161",
     "status": "completed"
    },
    "tags": []
   },
   "outputs": [
    {
     "name": "stdout",
     "output_type": "stream",
     "text": [
      "Training set shape: (7613, 5)\n",
      "Test set shape: (3263, 4)\n",
      "\n",
      "Training set columns: ['id', 'keyword', 'location', 'text', 'target']\n",
      "Test set columns: ['id', 'keyword', 'location', 'text']\n"
     ]
    }
   ],
   "source": [
    "print(\"Training set shape:\", train_df.shape)\n",
    "print(\"Test set shape:\", test_df.shape)\n",
    "print(\"\\nTraining set columns:\", train_df.columns.tolist())\n",
    "print(\"Test set columns:\", test_df.columns.tolist())"
   ]
  },
  {
   "cell_type": "code",
   "execution_count": 5,
   "id": "a0be63fc",
   "metadata": {
    "_cell_guid": "2864dabf-b436-4ab7-b5b0-b3b4235fcb78",
    "_uuid": "7b258115-83a2-4619-b791-73d8db1b39c0",
    "collapsed": false,
    "execution": {
     "iopub.execute_input": "2025-04-19T07:20:17.044997Z",
     "iopub.status.busy": "2025-04-19T07:20:17.044486Z",
     "iopub.status.idle": "2025-04-19T07:20:17.085053Z",
     "shell.execute_reply": "2025-04-19T07:20:17.083964Z"
    },
    "jupyter": {
     "outputs_hidden": false
    },
    "papermill": {
     "duration": 0.051155,
     "end_time": "2025-04-19T07:20:17.086642",
     "exception": false,
     "start_time": "2025-04-19T07:20:17.035487",
     "status": "completed"
    },
    "tags": []
   },
   "outputs": [
    {
     "name": "stdout",
     "output_type": "stream",
     "text": [
      "\n",
      "Sample of training data:\n"
     ]
    },
    {
     "data": {
      "text/html": [
       "<div>\n",
       "<style scoped>\n",
       "    .dataframe tbody tr th:only-of-type {\n",
       "        vertical-align: middle;\n",
       "    }\n",
       "\n",
       "    .dataframe tbody tr th {\n",
       "        vertical-align: top;\n",
       "    }\n",
       "\n",
       "    .dataframe thead th {\n",
       "        text-align: right;\n",
       "    }\n",
       "</style>\n",
       "<table border=\"1\" class=\"dataframe\">\n",
       "  <thead>\n",
       "    <tr style=\"text-align: right;\">\n",
       "      <th></th>\n",
       "      <th>id</th>\n",
       "      <th>keyword</th>\n",
       "      <th>location</th>\n",
       "      <th>text</th>\n",
       "      <th>target</th>\n",
       "    </tr>\n",
       "  </thead>\n",
       "  <tbody>\n",
       "    <tr>\n",
       "      <th>1075</th>\n",
       "      <td>1554</td>\n",
       "      <td>bomb</td>\n",
       "      <td>NaN</td>\n",
       "      <td>New Documents Found Pointing To Japan's WWII A...</td>\n",
       "      <td>1</td>\n",
       "    </tr>\n",
       "    <tr>\n",
       "      <th>5591</th>\n",
       "      <td>7978</td>\n",
       "      <td>razed</td>\n",
       "      <td>NaN</td>\n",
       "      <td>The Latest: More homes razed by Northern Calif...</td>\n",
       "      <td>1</td>\n",
       "    </tr>\n",
       "    <tr>\n",
       "      <th>7478</th>\n",
       "      <td>10696</td>\n",
       "      <td>wreck</td>\n",
       "      <td>Victoria, BC</td>\n",
       "      <td>@Memenaar But the design decision to 'Let's ma...</td>\n",
       "      <td>0</td>\n",
       "    </tr>\n",
       "    <tr>\n",
       "      <th>5059</th>\n",
       "      <td>7210</td>\n",
       "      <td>natural%20disaster</td>\n",
       "      <td>NaN</td>\n",
       "      <td>Expert Prepper: Financial Collapse Natural Dis...</td>\n",
       "      <td>1</td>\n",
       "    </tr>\n",
       "    <tr>\n",
       "      <th>3768</th>\n",
       "      <td>5351</td>\n",
       "      <td>fire</td>\n",
       "      <td>the road to success</td>\n",
       "      <td>I wanna set some shit on fire.</td>\n",
       "      <td>1</td>\n",
       "    </tr>\n",
       "    <tr>\n",
       "      <th>6834</th>\n",
       "      <td>9788</td>\n",
       "      <td>trapped</td>\n",
       "      <td>å_å_Los Mina Cityã¢</td>\n",
       "      <td>Hollywood Movie About Trapped Miners Released ...</td>\n",
       "      <td>0</td>\n",
       "    </tr>\n",
       "    <tr>\n",
       "      <th>4664</th>\n",
       "      <td>6630</td>\n",
       "      <td>inundated</td>\n",
       "      <td>NaN</td>\n",
       "      <td>[Withering] to death. is an album found when h...</td>\n",
       "      <td>0</td>\n",
       "    </tr>\n",
       "    <tr>\n",
       "      <th>5774</th>\n",
       "      <td>8241</td>\n",
       "      <td>riot</td>\n",
       "      <td>San Francisco, CA</td>\n",
       "      <td>? Cracker - White Riot ? http://t.co/Cc7D0wxk0...</td>\n",
       "      <td>0</td>\n",
       "    </tr>\n",
       "    <tr>\n",
       "      <th>4018</th>\n",
       "      <td>5707</td>\n",
       "      <td>floods</td>\n",
       "      <td>Rio de Janeiro</td>\n",
       "      <td>&amp;gt;As soon as maintenance ends everyone flood...</td>\n",
       "      <td>0</td>\n",
       "    </tr>\n",
       "    <tr>\n",
       "      <th>7543</th>\n",
       "      <td>10784</td>\n",
       "      <td>wreckage</td>\n",
       "      <td>Mumbai</td>\n",
       "      <td>Wreckage 'Conclusively Confirmed' as From MH37...</td>\n",
       "      <td>1</td>\n",
       "    </tr>\n",
       "  </tbody>\n",
       "</table>\n",
       "</div>"
      ],
      "text/plain": [
       "         id             keyword              location  \\\n",
       "1075   1554                bomb                   NaN   \n",
       "5591   7978               razed                   NaN   \n",
       "7478  10696               wreck          Victoria, BC   \n",
       "5059   7210  natural%20disaster                   NaN   \n",
       "3768   5351                fire   the road to success   \n",
       "6834   9788             trapped  å_å_Los Mina Cityã¢   \n",
       "4664   6630           inundated                   NaN   \n",
       "5774   8241                riot     San Francisco, CA   \n",
       "4018   5707              floods        Rio de Janeiro   \n",
       "7543  10784            wreckage                Mumbai   \n",
       "\n",
       "                                                   text  target  \n",
       "1075  New Documents Found Pointing To Japan's WWII A...       1  \n",
       "5591  The Latest: More homes razed by Northern Calif...       1  \n",
       "7478  @Memenaar But the design decision to 'Let's ma...       0  \n",
       "5059  Expert Prepper: Financial Collapse Natural Dis...       1  \n",
       "3768                     I wanna set some shit on fire.       1  \n",
       "6834  Hollywood Movie About Trapped Miners Released ...       0  \n",
       "4664  [Withering] to death. is an album found when h...       0  \n",
       "5774  ? Cracker - White Riot ? http://t.co/Cc7D0wxk0...       0  \n",
       "4018  &gt;As soon as maintenance ends everyone flood...       0  \n",
       "7543  Wreckage 'Conclusively Confirmed' as From MH37...       1  "
      ]
     },
     "execution_count": 5,
     "metadata": {},
     "output_type": "execute_result"
    }
   ],
   "source": [
    "# Display sample of the training data\n",
    "print(\"\\nSample of training data:\")\n",
    "train_df.sample(10)"
   ]
  },
  {
   "cell_type": "markdown",
   "id": "972f2ec9",
   "metadata": {
    "_cell_guid": "adf62cca-0ec3-41c9-91e2-b8653dada791",
    "_uuid": "4b86b95d-b8b7-4e1d-b4b4-0deb095c943e",
    "collapsed": false,
    "jupyter": {
     "outputs_hidden": false
    },
    "papermill": {
     "duration": 0.00784,
     "end_time": "2025-04-19T07:20:17.102989",
     "exception": false,
     "start_time": "2025-04-19T07:20:17.095149",
     "status": "completed"
    },
    "tags": []
   },
   "source": [
    "Below, I plot the top 25 most common key words from the training dataset by target value. It shows that tweets containing disaster-related words are not strictly talking about disasters."
   ]
  },
  {
   "cell_type": "code",
   "execution_count": 6,
   "id": "c3b2a2fc",
   "metadata": {
    "_cell_guid": "0430d7e4-3b22-4c27-afd8-c08373ee42c2",
    "_uuid": "2b86f278-b959-4826-9047-52eef2206bc3",
    "collapsed": false,
    "execution": {
     "iopub.execute_input": "2025-04-19T07:20:17.122761Z",
     "iopub.status.busy": "2025-04-19T07:20:17.121744Z",
     "iopub.status.idle": "2025-04-19T07:20:18.066831Z",
     "shell.execute_reply": "2025-04-19T07:20:18.065818Z"
    },
    "jupyter": {
     "outputs_hidden": false
    },
    "papermill": {
     "duration": 0.958026,
     "end_time": "2025-04-19T07:20:18.069050",
     "exception": false,
     "start_time": "2025-04-19T07:20:17.111024",
     "status": "completed"
    },
    "tags": []
   },
   "outputs": [
    {
     "name": "stdout",
     "output_type": "stream",
     "text": [
      "Total unique keywords (including NaN): 221\n",
      "\n"
     ]
    },
    {
     "data": {
      "image/png": "[encoded data removed]",
      "text/plain": [
       "<Figure size 1400x700 with 1 Axes>"
      ]
     },
     "metadata": {},
     "output_type": "display_data"
    }
   ],
   "source": [
    "keyword_target_counts = train_df.groupby(['keyword', 'target']).size().unstack(fill_value=0)\n",
    "\n",
    "if train_df['keyword'].isna().any():\n",
    "\n",
    "    if 'unknown' in keyword_target_counts.index:\n",
    "        keyword_target_counts = keyword_target_counts.rename(index={'unknown': 'NaN'})\n",
    "\n",
    "top_keywords = keyword_target_counts.sum(axis=1).sort_values(ascending=False).head(25).index\n",
    "\n",
    "plot_data = keyword_target_counts.loc[top_keywords]\n",
    "\n",
    "print(f\"Total unique keywords (including NaN): {len(keyword_target_counts)}\\n\")\n",
    "\n",
    "# plot\n",
    "fig, ax = plt.subplots(figsize=(14, 7))\n",
    "plot_data.plot(kind='bar', color=['#FF9999', '#66B2FF'], ax=ax)\n",
    "plt.title('Top 25 Keywords by Target (Disaster vs. Non-Disaster)')\n",
    "plt.xlabel('Keyword')\n",
    "plt.ylabel('Count')\n",
    "plt.xticks(rotation=90)\n",
    "plt.legend(['Non-Disaster (0)', 'Disaster (1)'])\n",
    "plt.tight_layout()\n",
    "plt.show()"
   ]
  },
  {
   "cell_type": "markdown",
   "id": "ba74b8b1",
   "metadata": {
    "_cell_guid": "f5dfe153-2e67-4f9f-9ad3-acf2e2d8a6dc",
    "_uuid": "0ea05ecf-0940-4b43-8a5f-a3dd3e7aaffa",
    "collapsed": false,
    "jupyter": {
     "outputs_hidden": false
    },
    "papermill": {
     "duration": 0.009146,
     "end_time": "2025-04-19T07:20:18.088224",
     "exception": false,
     "start_time": "2025-04-19T07:20:18.079078",
     "status": "completed"
    },
    "tags": []
   },
   "source": [
    "From the plot below, we can determine that there is a class imbalance between real disaster tweets and tweets unrelated to disasters using disater-related words."
   ]
  },
  {
   "cell_type": "code",
   "execution_count": 7,
   "id": "9c403671",
   "metadata": {
    "_cell_guid": "dd55e6f9-22bd-4a5e-83fc-6067cf87a8ce",
    "_uuid": "beff3b6f-d8ea-4a86-9c7f-898bced583a6",
    "collapsed": false,
    "execution": {
     "iopub.execute_input": "2025-04-19T07:20:18.108741Z",
     "iopub.status.busy": "2025-04-19T07:20:18.108345Z",
     "iopub.status.idle": "2025-04-19T07:20:18.253064Z",
     "shell.execute_reply": "2025-04-19T07:20:18.251964Z"
    },
    "jupyter": {
     "outputs_hidden": false
    },
    "papermill": {
     "duration": 0.156986,
     "end_time": "2025-04-19T07:20:18.254647",
     "exception": false,
     "start_time": "2025-04-19T07:20:18.097661",
     "status": "completed"
    },
    "tags": []
   },
   "outputs": [
    {
     "data": {
      "image/png": "[encoded data removed]",
      "text/plain": [
       "<Figure size 800x600 with 1 Axes>"
      ]
     },
     "metadata": {},
     "output_type": "display_data"
    }
   ],
   "source": [
    "# Check class distribution\n",
    "plt.figure(figsize=(8, 6))\n",
    "sns.countplot(x='target', data=train_df)\n",
    "plt.title('Distribution of Target Variable')\n",
    "plt.xlabel('Target (0: Not Disaster, 1: Disaster)')\n",
    "plt.ylabel('Count')\n",
    "plt.xticks([0, 1], ['Not Disaster', 'Disaster'])\n",
    "plt.show()"
   ]
  },
  {
   "cell_type": "code",
   "execution_count": 8,
   "id": "2b2184cc",
   "metadata": {
    "_cell_guid": "015d6a92-0bb9-4382-b047-d972d567a7b3",
    "_uuid": "d3745a8d-f6e7-4a6a-8dfc-746008271464",
    "collapsed": false,
    "execution": {
     "iopub.execute_input": "2025-04-19T07:20:18.276707Z",
     "iopub.status.busy": "2025-04-19T07:20:18.275580Z",
     "iopub.status.idle": "2025-04-19T07:20:18.286787Z",
     "shell.execute_reply": "2025-04-19T07:20:18.285436Z"
    },
    "jupyter": {
     "outputs_hidden": false
    },
    "papermill": {
     "duration": 0.023404,
     "end_time": "2025-04-19T07:20:18.288176",
     "exception": false,
     "start_time": "2025-04-19T07:20:18.264772",
     "status": "completed"
    },
    "tags": []
   },
   "outputs": [
    {
     "name": "stdout",
     "output_type": "stream",
     "text": [
      "\n",
      "Target Distribution:\n",
      "Not Disaster (0): 4342 (57.03%)\n",
      "Disaster (1): 3271 (42.97%)\n"
     ]
    }
   ],
   "source": [
    "target_counts = train_df['target'].value_counts()\n",
    "print(\"\\nTarget Distribution:\")\n",
    "print(f\"Not Disaster (0): {target_counts[0]} ({target_counts[0]/len(train_df)*100:.2f}%)\")\n",
    "print(f\"Disaster (1): {target_counts[1]} ({target_counts[1]/len(train_df)*100:.2f}%)\")"
   ]
  },
  {
   "cell_type": "markdown",
   "id": "f06940c7",
   "metadata": {
    "_cell_guid": "a1533ce3-43fa-4eb3-af61-719708943783",
    "_uuid": "fa401dc6-6590-403c-ac80-612a133d1406",
    "collapsed": false,
    "jupyter": {
     "outputs_hidden": false
    },
    "papermill": {
     "duration": 0.009743,
     "end_time": "2025-04-19T07:20:18.308221",
     "exception": false,
     "start_time": "2025-04-19T07:20:18.298478",
     "status": "completed"
    },
    "tags": []
   },
   "source": [
    "## 5 Clean Text\n",
    "\n",
    "The text cleaning funciton below uses regex to remove URLs, usernames, hashtags, punctuation, and non-ASCII cahracters."
   ]
  },
  {
   "cell_type": "code",
   "execution_count": 9,
   "id": "582ed309",
   "metadata": {
    "_cell_guid": "c3928f69-0bdd-49a4-a6a3-c92e9d66f373",
    "_uuid": "0cd1fefc-73f9-4c4f-8a0d-d6e0fe8b1b94",
    "collapsed": false,
    "execution": {
     "iopub.execute_input": "2025-04-19T07:20:18.329951Z",
     "iopub.status.busy": "2025-04-19T07:20:18.329605Z",
     "iopub.status.idle": "2025-04-19T07:20:18.335206Z",
     "shell.execute_reply": "2025-04-19T07:20:18.334249Z"
    },
    "jupyter": {
     "outputs_hidden": false
    },
    "papermill": {
     "duration": 0.018563,
     "end_time": "2025-04-19T07:20:18.336865",
     "exception": false,
     "start_time": "2025-04-19T07:20:18.318302",
     "status": "completed"
    },
    "tags": []
   },
   "outputs": [],
   "source": [
    "def clean_text(text):\n",
    "    \n",
    "    if not isinstance(text, str):\n",
    "        return \"\"\n",
    "    \n",
    "    else:\n",
    "        # lowercase text, then remove URLs, usernames, hashtags, punctuation, and non-ASCII characters\n",
    "        text = re.sub(r'http\\S+|www\\S+|https\\S+|@\\w+|#\\w+|[^\\w\\s]|[^\\x00-\\x7F]+', ' ', text.lower())\n",
    "        # normalize white space\n",
    "        text = re.sub(r'\\s+', ' ', text).strip()\n",
    "        \n",
    "        return text"
   ]
  },
  {
   "cell_type": "code",
   "execution_count": 10,
   "id": "ae5817a4",
   "metadata": {
    "_cell_guid": "14930073-82c8-48a8-b479-452c470301ad",
    "_uuid": "befde43c-f50b-47f8-a23c-fc9947a4007e",
    "collapsed": false,
    "execution": {
     "iopub.execute_input": "2025-04-19T07:20:18.357923Z",
     "iopub.status.busy": "2025-04-19T07:20:18.357497Z",
     "iopub.status.idle": "2025-04-19T07:20:18.509966Z",
     "shell.execute_reply": "2025-04-19T07:20:18.508909Z"
    },
    "jupyter": {
     "outputs_hidden": false
    },
    "papermill": {
     "duration": 0.164866,
     "end_time": "2025-04-19T07:20:18.511658",
     "exception": false,
     "start_time": "2025-04-19T07:20:18.346792",
     "status": "completed"
    },
    "tags": []
   },
   "outputs": [
    {
     "name": "stdout",
     "output_type": "stream",
     "text": [
      "Sample of cleaned text:\n",
      "Original: Man wife get six years jail for setting ablaze niece\n",
      "http://t.co/eV1ahOUCZA\n",
      "Cleaned: man wife get six years jail for setting ablaze niece\n",
      "\n",
      "Original: SANTA CRUZ ÛÓ Head of the St Elizabeth Police Superintendent Lanford Salmon has r ... - http://t.co/vplR5Hka2u http://t.co/SxHW2TNNLf\n",
      "Cleaned: santa cruz head of the st elizabeth police superintendent lanford salmon has r\n",
      "\n",
      "Original: Police: Arsonist Deliberately Set Black Church In North CarolinaåÊAblaze http://t.co/pcXarbH9An\n",
      "Cleaned: police arsonist deliberately set black church in north carolina ablaze\n",
      "\n"
     ]
    }
   ],
   "source": [
    "train_df['cleaned_text'] = train_df['text'].apply(clean_text)\n",
    "test_df['cleaned_text'] = test_df['text'].apply(clean_text)\n",
    "\n",
    "train_df['keyword'].fillna('unknown', inplace=True)\n",
    "train_df['location'].fillna('unknown', inplace=True)\n",
    "test_df['keyword'].fillna('unknown', inplace=True)\n",
    "test_df['location'].fillna('unknown', inplace=True)\n",
    "\n",
    "\n",
    "print(\"Sample of cleaned text:\")\n",
    "for i in range(51,54):\n",
    "    print(f\"Original: {train_df['text'].iloc[i]}\")\n",
    "    print(f\"Cleaned: {train_df['cleaned_text'].iloc[i]}\\n\")"
   ]
  },
  {
   "cell_type": "markdown",
   "id": "6b85b599",
   "metadata": {
    "_cell_guid": "97747fb7-daa9-4266-b60c-23101028c7cd",
    "_uuid": "459d5ce1-f0a8-4954-a6c5-2699386c9b60",
    "collapsed": false,
    "jupyter": {
     "outputs_hidden": false
    },
    "papermill": {
     "duration": 0.009325,
     "end_time": "2025-04-19T07:20:18.530636",
     "exception": false,
     "start_time": "2025-04-19T07:20:18.521311",
     "status": "completed"
    },
    "tags": []
   },
   "source": [
    "## 6 Tokenize Text"
   ]
  },
  {
   "cell_type": "code",
   "execution_count": 11,
   "id": "c5df0cbc",
   "metadata": {
    "_cell_guid": "6ec8fdcb-b123-41bd-b091-80ccd5d6736a",
    "_uuid": "e5141ddc-dabc-46c1-8add-f49f19c8a82f",
    "collapsed": false,
    "execution": {
     "iopub.execute_input": "2025-04-19T07:20:18.622197Z",
     "iopub.status.busy": "2025-04-19T07:20:18.621802Z",
     "iopub.status.idle": "2025-04-19T07:20:18.922799Z",
     "shell.execute_reply": "2025-04-19T07:20:18.921777Z"
    },
    "jupyter": {
     "outputs_hidden": false
    },
    "papermill": {
     "duration": 0.314044,
     "end_time": "2025-04-19T07:20:18.924867",
     "exception": false,
     "start_time": "2025-04-19T07:20:18.610823",
     "status": "completed"
    },
    "tags": []
   },
   "outputs": [],
   "source": [
    "max_words = 20000  # max words in vocabulary\n",
    "max_len = 100      # max sequence length\n",
    "\n",
    "tokenizer = Tokenizer(num_words=max_words)\n",
    "tokenizer.fit_on_texts(train_df['cleaned_text'])\n",
    "\n",
    "train_sequences = tokenizer.texts_to_sequences(train_df['cleaned_text'])\n",
    "test_sequences = tokenizer.texts_to_sequences(test_df['cleaned_text'])\n",
    "\n",
    "X_train = pad_sequences(train_sequences, maxlen=max_len)\n",
    "X_test = pad_sequences(test_sequences, maxlen=max_len)\n",
    "y_train = train_df['target'].values"
   ]
  },
  {
   "cell_type": "markdown",
   "id": "44d7945a",
   "metadata": {
    "_cell_guid": "68f73284-0e26-403a-b174-da3c16183612",
    "_uuid": "1617e13a-7dc7-4e7b-a4f5-5432aeb56d5a",
    "collapsed": false,
    "jupyter": {
     "outputs_hidden": false
    },
    "papermill": {
     "duration": 0.010308,
     "end_time": "2025-04-19T07:20:18.945610",
     "exception": false,
     "start_time": "2025-04-19T07:20:18.935302",
     "status": "completed"
    },
    "tags": []
   },
   "source": [
    "## 7 Split Data into train and validation sets"
   ]
  },
  {
   "cell_type": "code",
   "execution_count": 12,
   "id": "6b624186",
   "metadata": {
    "_cell_guid": "7b191ba5-f8f4-4659-8476-cc68df690c19",
    "_uuid": "55d8ed57-e68b-4817-a43d-0a5381463b87",
    "collapsed": false,
    "execution": {
     "iopub.execute_input": "2025-04-19T07:20:18.967609Z",
     "iopub.status.busy": "2025-04-19T07:20:18.967224Z",
     "iopub.status.idle": "2025-04-19T07:20:18.971434Z",
     "shell.execute_reply": "2025-04-19T07:20:18.970569Z"
    },
    "jupyter": {
     "outputs_hidden": false
    },
    "papermill": {
     "duration": 0.017168,
     "end_time": "2025-04-19T07:20:18.973037",
     "exception": false,
     "start_time": "2025-04-19T07:20:18.955869",
     "status": "completed"
    },
    "tags": []
   },
   "outputs": [],
   "source": [
    "# Set batch size\n",
    "BATCH_SIZE = 64"
   ]
  },
  {
   "cell_type": "code",
   "execution_count": 13,
   "id": "d485a742",
   "metadata": {
    "_cell_guid": "c4f7a200-6a2b-4f19-bdb7-c58aad69c4ea",
    "_uuid": "d6bb9807-d0ef-41f1-93d1-dad0be4e82af",
    "collapsed": false,
    "execution": {
     "iopub.execute_input": "2025-04-19T07:20:18.995191Z",
     "iopub.status.busy": "2025-04-19T07:20:18.994860Z",
     "iopub.status.idle": "2025-04-19T07:20:19.009578Z",
     "shell.execute_reply": "2025-04-19T07:20:19.008346Z"
    },
    "jupyter": {
     "outputs_hidden": false
    },
    "papermill": {
     "duration": 0.027912,
     "end_time": "2025-04-19T07:20:19.011615",
     "exception": false,
     "start_time": "2025-04-19T07:20:18.983703",
     "status": "completed"
    },
    "tags": []
   },
   "outputs": [],
   "source": [
    "X_train_split, X_val, y_train_split, y_val = train_test_split(\n",
    "    X_train, y_train, test_size=0.2, random_state=42, stratify=y_train\n",
    ")"
   ]
  },
  {
   "cell_type": "code",
   "execution_count": 14,
   "id": "90f26b7a",
   "metadata": {
    "_cell_guid": "792c591a-abaf-4108-9cc7-0a85e39f9b5d",
    "_uuid": "f695bb91-59ba-4025-9328-932404dcf5d4",
    "collapsed": false,
    "execution": {
     "iopub.execute_input": "2025-04-19T07:20:19.034915Z",
     "iopub.status.busy": "2025-04-19T07:20:19.034561Z",
     "iopub.status.idle": "2025-04-19T07:20:19.040055Z",
     "shell.execute_reply": "2025-04-19T07:20:19.039095Z"
    },
    "jupyter": {
     "outputs_hidden": false
    },
    "papermill": {
     "duration": 0.019007,
     "end_time": "2025-04-19T07:20:19.041638",
     "exception": false,
     "start_time": "2025-04-19T07:20:19.022631",
     "status": "completed"
    },
    "tags": []
   },
   "outputs": [],
   "source": [
    "# tf.data.Dataset for efficient data loading\n",
    "def create_dataset(features, labels, batch_size=64, is_training=True):\n",
    "    \n",
    "    dataset = tf.data.Dataset.from_tensor_slices((features, labels))\n",
    "    \n",
    "    if is_training:\n",
    "        dataset = dataset.shuffle(buffer_size=10000)\n",
    "    \n",
    "    dataset = dataset.batch(BATCH_SIZE)\n",
    "    dataset = dataset.prefetch(tf.data.experimental.AUTOTUNE)\n",
    "    \n",
    "    return dataset"
   ]
  },
  {
   "cell_type": "code",
   "execution_count": 15,
   "id": "c8f99ce9",
   "metadata": {
    "_cell_guid": "8d7522de-f541-4cad-a090-831b6ebe8b2d",
    "_uuid": "2aa074e4-d228-4788-841e-6857152c2e7f",
    "collapsed": false,
    "execution": {
     "iopub.execute_input": "2025-04-19T07:20:19.064050Z",
     "iopub.status.busy": "2025-04-19T07:20:19.063343Z",
     "iopub.status.idle": "2025-04-19T07:20:19.154692Z",
     "shell.execute_reply": "2025-04-19T07:20:19.153418Z"
    },
    "jupyter": {
     "outputs_hidden": false
    },
    "papermill": {
     "duration": 0.104571,
     "end_time": "2025-04-19T07:20:19.156711",
     "exception": false,
     "start_time": "2025-04-19T07:20:19.052140",
     "status": "completed"
    },
    "tags": []
   },
   "outputs": [
    {
     "name": "stderr",
     "output_type": "stream",
     "text": [
      "2025-04-19 07:20:19.072581: E external/local_xla/xla/stream_executor/cuda/cuda_driver.cc:152] failed call to cuInit: INTERNAL: CUDA error: Failed call to cuInit: UNKNOWN ERROR (303)\n"
     ]
    }
   ],
   "source": [
    "# Create the datasets\n",
    "train_dataset = create_dataset(X_train_split, y_train_split, BATCH_SIZE)\n",
    "val_dataset = create_dataset(X_val, y_val, BATCH_SIZE, is_training=False)"
   ]
  },
  {
   "cell_type": "markdown",
   "id": "2c5bec87",
   "metadata": {
    "_cell_guid": "a7d0d2e2-c58f-4f7a-a40f-5617459f6a75",
    "_uuid": "1913b268-27b2-4b85-be17-8efc31c13ee2",
    "collapsed": false,
    "jupyter": {
     "outputs_hidden": false
    },
    "papermill": {
     "duration": 0.009499,
     "end_time": "2025-04-19T07:20:19.176409",
     "exception": false,
     "start_time": "2025-04-19T07:20:19.166910",
     "status": "completed"
    },
    "tags": []
   },
   "source": [
    "## 8 Build Model\n",
    "\n",
    "The GRU architecture is a good choice for this text classification task as it handles sequential data effectively while avoiding the vanaishing gradient problem common in vanilla RNNs. Additionally, compared to other RNNs, the GRU architecture is a good middle ground between performance and computational efficiency."
   ]
  },
  {
   "cell_type": "code",
   "execution_count": 16,
   "id": "97505312",
   "metadata": {
    "_cell_guid": "c6036fe1-a994-49a0-b968-3bbe4a5d5e77",
    "_uuid": "fb3680bb-428c-4007-b467-6287384a8459",
    "collapsed": false,
    "execution": {
     "iopub.execute_input": "2025-04-19T07:20:19.197706Z",
     "iopub.status.busy": "2025-04-19T07:20:19.197291Z",
     "iopub.status.idle": "2025-04-19T07:20:19.204226Z",
     "shell.execute_reply": "2025-04-19T07:20:19.203248Z"
    },
    "jupyter": {
     "outputs_hidden": false
    },
    "papermill": {
     "duration": 0.019755,
     "end_time": "2025-04-19T07:20:19.206040",
     "exception": false,
     "start_time": "2025-04-19T07:20:19.186285",
     "status": "completed"
    },
    "tags": []
   },
   "outputs": [],
   "source": [
    "def build_gru_model(embedding_dim=128, units=64, dropout=0.2):\n",
    "\n",
    "    inputs = Input(shape=(max_len,))\n",
    "    \n",
    "    x = Embedding(max_words, embedding_dim, input_length=max_len)(inputs)\n",
    "    x = SpatialDropout1D(dropout)(x)\n",
    "    x = GRU(units, dropout=dropout, recurrent_dropout=dropout)(x)\n",
    "    outputs = Dense(1, activation='sigmoid')(x)\n",
    "    \n",
    "    model = Model(inputs=inputs, outputs=outputs)\n",
    "    \n",
    "    optimizer = Adam(learning_rate=0.001)\n",
    "    \n",
    "    model.compile(\n",
    "        loss='binary_crossentropy', \n",
    "        optimizer=optimizer, \n",
    "        metrics=['accuracy']\n",
    "    )\n",
    "    \n",
    "    return model"
   ]
  },
  {
   "cell_type": "markdown",
   "id": "63ffbff1",
   "metadata": {
    "papermill": {
     "duration": 0.010673,
     "end_time": "2025-04-19T07:20:19.227617",
     "exception": false,
     "start_time": "2025-04-19T07:20:19.216944",
     "status": "completed"
    },
    "tags": []
   },
   "source": [
    "Word embeddings convert text into numerical vectors that capture semantic meaning. Unlike simple one-hot encoding, embeddings place semantically similar words closer together in vector space.\n",
    "\n",
    "I'm using the keras tokenizer and embedding layer for text processing. The keras tokenizer converts words to integers based on frequency, then the embedding transforms the integers into dense vectors that are learned during training. This method is different from pre-trained approaches like Word2Vec, GloVe, and TF-IDF. Word2Vec learns word associations from a large corpus by either predicting the current word based on context or predicting surrounding words given the current word. GloVe combines global matrix factorization with local context window methods to create word vectors that capture both global statistics and local context. TF-IDF (used previously in the BBC News Classification Challenge) evaluates word importance statistically in a document relative to a corpus by balancing how often a word appears in a document with how common it is across all documents."
   ]
  },
  {
   "cell_type": "markdown",
   "id": "82adae20",
   "metadata": {
    "_cell_guid": "418f2a7a-46f1-40c7-a0a2-75af65ef95db",
    "_uuid": "e0b17c1a-d8ea-47aa-8738-ab2c72faf75c",
    "collapsed": false,
    "jupyter": {
     "outputs_hidden": false
    },
    "papermill": {
     "duration": 0.010747,
     "end_time": "2025-04-19T07:20:19.249014",
     "exception": false,
     "start_time": "2025-04-19T07:20:19.238267",
     "status": "completed"
    },
    "tags": []
   },
   "source": [
    "## 9 Configure Callbacks\n",
    "\n",
    "My implementation includes early stopping to prevent overfitting, a model checkpoint to save the best model, and learning rate reduction when performance plateaus."
   ]
  },
  {
   "cell_type": "code",
   "execution_count": 17,
   "id": "32551fbf",
   "metadata": {
    "_cell_guid": "733dc2f2-e36f-4ed8-a244-06e96b02a15c",
    "_uuid": "c5ae5cca-2c2e-4906-8548-7932a2ed5147",
    "collapsed": false,
    "execution": {
     "iopub.execute_input": "2025-04-19T07:20:19.271921Z",
     "iopub.status.busy": "2025-04-19T07:20:19.271494Z",
     "iopub.status.idle": "2025-04-19T07:20:19.277960Z",
     "shell.execute_reply": "2025-04-19T07:20:19.276938Z"
    },
    "jupyter": {
     "outputs_hidden": false
    },
    "papermill": {
     "duration": 0.019685,
     "end_time": "2025-04-19T07:20:19.279619",
     "exception": false,
     "start_time": "2025-04-19T07:20:19.259934",
     "status": "completed"
    },
    "tags": []
   },
   "outputs": [],
   "source": [
    "# config callbacks for training\n",
    "def get_callbacks():\n",
    "    if not os.path.exists('model_checkpoints'):\n",
    "        os.makedirs('model_checkpoints')\n",
    "        \n",
    "    checkpoint_path = 'model_checkpoints/gru_best.keras'\n",
    "    \n",
    "    callbacks = [\n",
    "        EarlyStopping(\n",
    "            monitor='val_loss',\n",
    "            patience=4,\n",
    "            restore_best_weights=True,\n",
    "            verbose=1\n",
    "        ),\n",
    "        ModelCheckpoint(\n",
    "            filepath=checkpoint_path,\n",
    "            monitor='val_loss',\n",
    "            save_best_only=True,\n",
    "            verbose=1\n",
    "        ),\n",
    "        tf.keras.callbacks.ReduceLROnPlateau(\n",
    "            monitor='val_loss',\n",
    "            factor=0.5,\n",
    "            patience=2,\n",
    "            min_lr=1e-6,\n",
    "            verbose=1\n",
    "        )\n",
    "    ]\n",
    "    return callbacks"
   ]
  },
  {
   "cell_type": "markdown",
   "id": "55ae5382",
   "metadata": {
    "_cell_guid": "08511b90-b46d-4ad0-a814-d0ca5f4da7ac",
    "_uuid": "bc0e4b96-a143-4738-b652-d4b017885dfc",
    "collapsed": false,
    "jupyter": {
     "outputs_hidden": false
    },
    "papermill": {
     "duration": 0.009622,
     "end_time": "2025-04-19T07:20:19.299373",
     "exception": false,
     "start_time": "2025-04-19T07:20:19.289751",
     "status": "completed"
    },
    "tags": []
   },
   "source": [
    "## 10 Train Model"
   ]
  },
  {
   "cell_type": "code",
   "execution_count": 18,
   "id": "e43e97b9",
   "metadata": {
    "_cell_guid": "19916ceb-4f3f-4d6b-b994-f28d3f94fb22",
    "_uuid": "0ec20625-6c00-4e49-864d-d7d92851940d",
    "collapsed": false,
    "execution": {
     "iopub.execute_input": "2025-04-19T07:20:19.320670Z",
     "iopub.status.busy": "2025-04-19T07:20:19.320293Z",
     "iopub.status.idle": "2025-04-19T07:20:19.458128Z",
     "shell.execute_reply": "2025-04-19T07:20:19.457074Z"
    },
    "jupyter": {
     "outputs_hidden": false
    },
    "papermill": {
     "duration": 0.150616,
     "end_time": "2025-04-19T07:20:19.459814",
     "exception": false,
     "start_time": "2025-04-19T07:20:19.309198",
     "status": "completed"
    },
    "tags": []
   },
   "outputs": [
    {
     "name": "stdout",
     "output_type": "stream",
     "text": [
      "\n",
      "GRU Model Summary:\n"
     ]
    },
    {
     "data": {
      "text/html": [
       "<pre style=\"white-space:pre;overflow-x:auto;line-height:normal;font-family:Menlo,'DejaVu Sans Mono',consolas,'Courier New',monospace\"><span style=\"font-weight: bold\">Model: \"functional\"</span>\n",
       "</pre>\n"
      ],
      "text/plain": [
       "\u001b[1mModel: \"functional\"\u001b[0m\n"
      ]
     },
     "metadata": {},
     "output_type": "display_data"
    },
    {
     "data": {
      "text/html": [
       "<pre style=\"white-space:pre;overflow-x:auto;line-height:normal;font-family:Menlo,'DejaVu Sans Mono',consolas,'Courier New',monospace\">┏━━━━━━━━━━━━━━━━━━━━━━━━━━━━━━━━━━━━━━┳━━━━━━━━━━━━━━━━━━━━━━━━━━━━━┳━━━━━━━━━━━━━━━━━┓\n",
       "┃<span style=\"font-weight: bold\"> Layer (type)                         </span>┃<span style=\"font-weight: bold\"> Output Shape                </span>┃<span style=\"font-weight: bold\">         Param # </span>┃\n",
       "┡━━━━━━━━━━━━━━━━━━━━━━━━━━━━━━━━━━━━━━╇━━━━━━━━━━━━━━━━━━━━━━━━━━━━━╇━━━━━━━━━━━━━━━━━┩\n",
       "│ input_layer (<span style=\"color: #0087ff; text-decoration-color: #0087ff\">InputLayer</span>)             │ (<span style=\"color: #00d7ff; text-decoration-color: #00d7ff\">None</span>, <span style=\"color: #00af00; text-decoration-color: #00af00\">100</span>)                 │               <span style=\"color: #00af00; text-decoration-color: #00af00\">0</span> │\n",
       "├──────────────────────────────────────┼─────────────────────────────┼─────────────────┤\n",
       "│ embedding (<span style=\"color: #0087ff; text-decoration-color: #0087ff\">Embedding</span>)                │ (<span style=\"color: #00d7ff; text-decoration-color: #00d7ff\">None</span>, <span style=\"color: #00af00; text-decoration-color: #00af00\">100</span>, <span style=\"color: #00af00; text-decoration-color: #00af00\">128</span>)            │       <span style=\"color: #00af00; text-decoration-color: #00af00\">2,560,000</span> │\n",
       "├──────────────────────────────────────┼─────────────────────────────┼─────────────────┤\n",
       "│ spatial_dropout1d (<span style=\"color: #0087ff; text-decoration-color: #0087ff\">SpatialDropout1D</span>) │ (<span style=\"color: #00d7ff; text-decoration-color: #00d7ff\">None</span>, <span style=\"color: #00af00; text-decoration-color: #00af00\">100</span>, <span style=\"color: #00af00; text-decoration-color: #00af00\">128</span>)            │               <span style=\"color: #00af00; text-decoration-color: #00af00\">0</span> │\n",
       "├──────────────────────────────────────┼─────────────────────────────┼─────────────────┤\n",
       "│ gru (<span style=\"color: #0087ff; text-decoration-color: #0087ff\">GRU</span>)                            │ (<span style=\"color: #00d7ff; text-decoration-color: #00d7ff\">None</span>, <span style=\"color: #00af00; text-decoration-color: #00af00\">64</span>)                  │          <span style=\"color: #00af00; text-decoration-color: #00af00\">37,248</span> │\n",
       "├──────────────────────────────────────┼─────────────────────────────┼─────────────────┤\n",
       "│ dense (<span style=\"color: #0087ff; text-decoration-color: #0087ff\">Dense</span>)                        │ (<span style=\"color: #00d7ff; text-decoration-color: #00d7ff\">None</span>, <span style=\"color: #00af00; text-decoration-color: #00af00\">1</span>)                   │              <span style=\"color: #00af00; text-decoration-color: #00af00\">65</span> │\n",
       "└──────────────────────────────────────┴─────────────────────────────┴─────────────────┘\n",
       "</pre>\n"
      ],
      "text/plain": [
       "┏━━━━━━━━━━━━━━━━━━━━━━━━━━━━━━━━━━━━━━┳━━━━━━━━━━━━━━━━━━━━━━━━━━━━━┳━━━━━━━━━━━━━━━━━┓\n",
       "┃\u001b[1m \u001b[0m\u001b[1mLayer (type)                        \u001b[0m\u001b[1m \u001b[0m┃\u001b[1m \u001b[0m\u001b[1mOutput Shape               \u001b[0m\u001b[1m \u001b[0m┃\u001b[1m \u001b[0m\u001b[1m        Param #\u001b[0m\u001b[1m \u001b[0m┃\n",
       "┡━━━━━━━━━━━━━━━━━━━━━━━━━━━━━━━━━━━━━━╇━━━━━━━━━━━━━━━━━━━━━━━━━━━━━╇━━━━━━━━━━━━━━━━━┩\n",
       "│ input_layer (\u001b[38;5;33mInputLayer\u001b[0m)             │ (\u001b[38;5;45mNone\u001b[0m, \u001b[38;5;34m100\u001b[0m)                 │               \u001b[38;5;34m0\u001b[0m │\n",
       "├──────────────────────────────────────┼─────────────────────────────┼─────────────────┤\n",
       "│ embedding (\u001b[38;5;33mEmbedding\u001b[0m)                │ (\u001b[38;5;45mNone\u001b[0m, \u001b[38;5;34m100\u001b[0m, \u001b[38;5;34m128\u001b[0m)            │       \u001b[38;5;34m2,560,000\u001b[0m │\n",
       "├──────────────────────────────────────┼─────────────────────────────┼─────────────────┤\n",
       "│ spatial_dropout1d (\u001b[38;5;33mSpatialDropout1D\u001b[0m) │ (\u001b[38;5;45mNone\u001b[0m, \u001b[38;5;34m100\u001b[0m, \u001b[38;5;34m128\u001b[0m)            │               \u001b[38;5;34m0\u001b[0m │\n",
       "├──────────────────────────────────────┼─────────────────────────────┼─────────────────┤\n",
       "│ gru (\u001b[38;5;33mGRU\u001b[0m)                            │ (\u001b[38;5;45mNone\u001b[0m, \u001b[38;5;34m64\u001b[0m)                  │          \u001b[38;5;34m37,248\u001b[0m │\n",
       "├──────────────────────────────────────┼─────────────────────────────┼─────────────────┤\n",
       "│ dense (\u001b[38;5;33mDense\u001b[0m)                        │ (\u001b[38;5;45mNone\u001b[0m, \u001b[38;5;34m1\u001b[0m)                   │              \u001b[38;5;34m65\u001b[0m │\n",
       "└──────────────────────────────────────┴─────────────────────────────┴─────────────────┘\n"
      ]
     },
     "metadata": {},
     "output_type": "display_data"
    },
    {
     "data": {
      "text/html": [
       "<pre style=\"white-space:pre;overflow-x:auto;line-height:normal;font-family:Menlo,'DejaVu Sans Mono',consolas,'Courier New',monospace\"><span style=\"font-weight: bold\"> Total params: </span><span style=\"color: #00af00; text-decoration-color: #00af00\">2,597,313</span> (9.91 MB)\n",
       "</pre>\n"
      ],
      "text/plain": [
       "\u001b[1m Total params: \u001b[0m\u001b[38;5;34m2,597,313\u001b[0m (9.91 MB)\n"
      ]
     },
     "metadata": {},
     "output_type": "display_data"
    },
    {
     "data": {
      "text/html": [
       "<pre style=\"white-space:pre;overflow-x:auto;line-height:normal;font-family:Menlo,'DejaVu Sans Mono',consolas,'Courier New',monospace\"><span style=\"font-weight: bold\"> Trainable params: </span><span style=\"color: #00af00; text-decoration-color: #00af00\">2,597,313</span> (9.91 MB)\n",
       "</pre>\n"
      ],
      "text/plain": [
       "\u001b[1m Trainable params: \u001b[0m\u001b[38;5;34m2,597,313\u001b[0m (9.91 MB)\n"
      ]
     },
     "metadata": {},
     "output_type": "display_data"
    },
    {
     "data": {
      "text/html": [
       "<pre style=\"white-space:pre;overflow-x:auto;line-height:normal;font-family:Menlo,'DejaVu Sans Mono',consolas,'Courier New',monospace\"><span style=\"font-weight: bold\"> Non-trainable params: </span><span style=\"color: #00af00; text-decoration-color: #00af00\">0</span> (0.00 B)\n",
       "</pre>\n"
      ],
      "text/plain": [
       "\u001b[1m Non-trainable params: \u001b[0m\u001b[38;5;34m0\u001b[0m (0.00 B)\n"
      ]
     },
     "metadata": {},
     "output_type": "display_data"
    }
   ],
   "source": [
    "# Create GRU model\n",
    "gru_model = build_gru_model(\n",
    "    embedding_dim=128,\n",
    "    units=64,\n",
    "    dropout=0.2\n",
    ")\n",
    "\n",
    "# Print model summary\n",
    "print(\"\\nGRU Model Summary:\")\n",
    "gru_model.summary()\n",
    "\n",
    "# Get callbacks\n",
    "callbacks = get_callbacks()"
   ]
  },
  {
   "cell_type": "code",
   "execution_count": 19,
   "id": "8a5ca7c0",
   "metadata": {
    "_cell_guid": "b55c88da-408f-4820-9c8b-7f8b1606811a",
    "_uuid": "da0a5444-41e0-42a5-8426-f4b94287b825",
    "collapsed": false,
    "execution": {
     "iopub.execute_input": "2025-04-19T07:20:19.486025Z",
     "iopub.status.busy": "2025-04-19T07:20:19.485661Z",
     "iopub.status.idle": "2025-04-19T07:21:27.387089Z",
     "shell.execute_reply": "2025-04-19T07:21:27.386151Z"
    },
    "jupyter": {
     "outputs_hidden": false
    },
    "papermill": {
     "duration": 67.916864,
     "end_time": "2025-04-19T07:21:27.388917",
     "exception": false,
     "start_time": "2025-04-19T07:20:19.472053",
     "status": "completed"
    },
    "tags": []
   },
   "outputs": [
    {
     "name": "stdout",
     "output_type": "stream",
     "text": [
      "\n",
      "Training GRU model...\n",
      "Epoch 1/10\n",
      "\u001b[1m96/96\u001b[0m \u001b[32m━━━━━━━━━━━━━━━━━━━━\u001b[0m\u001b[37m\u001b[0m \u001b[1m0s\u001b[0m 106ms/step - accuracy: 0.6065 - loss: 0.6469\n",
      "Epoch 1: val_loss improved from inf to 0.49012, saving model to model_checkpoints/gru_best.keras\n",
      "\u001b[1m96/96\u001b[0m \u001b[32m━━━━━━━━━━━━━━━━━━━━\u001b[0m\u001b[37m\u001b[0m \u001b[1m16s\u001b[0m 120ms/step - accuracy: 0.6073 - loss: 0.6463 - val_accuracy: 0.7879 - val_loss: 0.4901 - learning_rate: 0.0010\n",
      "Epoch 2/10\n",
      "\u001b[1m96/96\u001b[0m \u001b[32m━━━━━━━━━━━━━━━━━━━━\u001b[0m\u001b[37m\u001b[0m \u001b[1m0s\u001b[0m 101ms/step - accuracy: 0.8398 - loss: 5403.9019\n",
      "Epoch 2: val_loss did not improve from 0.49012\n",
      "\u001b[1m96/96\u001b[0m \u001b[32m━━━━━━━━━━━━━━━━━━━━\u001b[0m\u001b[37m\u001b[0m \u001b[1m10s\u001b[0m 108ms/step - accuracy: 0.8397 - loss: 5398.3574 - val_accuracy: 0.7603 - val_loss: 0.5185 - learning_rate: 0.0010\n",
      "Epoch 3/10\n",
      "\u001b[1m96/96\u001b[0m \u001b[32m━━━━━━━━━━━━━━━━━━━━\u001b[0m\u001b[37m\u001b[0m \u001b[1m0s\u001b[0m 101ms/step - accuracy: 0.8741 - loss: 0.3473\n",
      "Epoch 3: val_loss did not improve from 0.49012\n",
      "\n",
      "Epoch 3: ReduceLROnPlateau reducing learning rate to 0.0005000000237487257.\n",
      "\u001b[1m96/96\u001b[0m \u001b[32m━━━━━━━━━━━━━━━━━━━━\u001b[0m\u001b[37m\u001b[0m \u001b[1m20s\u001b[0m 107ms/step - accuracy: 0.8740 - loss: 0.3473 - val_accuracy: 0.7610 - val_loss: 0.5102 - learning_rate: 0.0010\n",
      "Epoch 4/10\n",
      "\u001b[1m96/96\u001b[0m \u001b[32m━━━━━━━━━━━━━━━━━━━━\u001b[0m\u001b[37m\u001b[0m \u001b[1m0s\u001b[0m 101ms/step - accuracy: 0.9059 - loss: 0.2790\n",
      "Epoch 4: val_loss did not improve from 0.49012\n",
      "\u001b[1m96/96\u001b[0m \u001b[32m━━━━━━━━━━━━━━━━━━━━\u001b[0m\u001b[37m\u001b[0m \u001b[1m10s\u001b[0m 107ms/step - accuracy: 0.9058 - loss: 0.2789 - val_accuracy: 0.7571 - val_loss: 0.5123 - learning_rate: 5.0000e-04\n",
      "Epoch 5/10\n",
      "\u001b[1m96/96\u001b[0m \u001b[32m━━━━━━━━━━━━━━━━━━━━\u001b[0m\u001b[37m\u001b[0m \u001b[1m0s\u001b[0m 105ms/step - accuracy: 0.9117 - loss: 0.2513\n",
      "Epoch 5: val_loss did not improve from 0.49012\n",
      "\n",
      "Epoch 5: ReduceLROnPlateau reducing learning rate to 0.0002500000118743628.\n",
      "\u001b[1m96/96\u001b[0m \u001b[32m━━━━━━━━━━━━━━━━━━━━\u001b[0m\u001b[37m\u001b[0m \u001b[1m11s\u001b[0m 112ms/step - accuracy: 0.9117 - loss: 0.2513 - val_accuracy: 0.7511 - val_loss: 0.5165 - learning_rate: 5.0000e-04\n",
      "Epoch 5: early stopping\n",
      "Restoring model weights from the end of the best epoch: 1.\n"
     ]
    }
   ],
   "source": [
    "# Train model\n",
    "print(\"\\nTraining GRU model...\")\n",
    "history = gru_model.fit(\n",
    "    train_dataset,\n",
    "    epochs=10,\n",
    "    validation_data=val_dataset,\n",
    "    callbacks=callbacks,\n",
    "    verbose=1\n",
    ")\n",
    "\n",
    "# Save training history to CSV\n",
    "history_df = pd.DataFrame(history.history)\n",
    "history_df.to_csv('model_checkpoints/training_history.csv', index=False)"
   ]
  },
  {
   "cell_type": "code",
   "execution_count": 20,
   "id": "0998253a",
   "metadata": {
    "_cell_guid": "1938945b-81ab-4470-80df-04e246ed9ca9",
    "_uuid": "097244c1-11ed-4d68-9a6a-74043518b84e",
    "collapsed": false,
    "execution": {
     "iopub.execute_input": "2025-04-19T07:21:27.463083Z",
     "iopub.status.busy": "2025-04-19T07:21:27.462739Z",
     "iopub.status.idle": "2025-04-19T07:21:27.883260Z",
     "shell.execute_reply": "2025-04-19T07:21:27.882238Z"
    },
    "jupyter": {
     "outputs_hidden": false
    },
    "papermill": {
     "duration": 0.4595,
     "end_time": "2025-04-19T07:21:27.885212",
     "exception": false,
     "start_time": "2025-04-19T07:21:27.425712",
     "status": "completed"
    },
    "tags": []
   },
   "outputs": [
    {
     "data": {
      "image/png": "[encoded data removed]",
      "text/plain": [
       "<Figure size 1200x500 with 2 Axes>"
      ]
     },
     "metadata": {},
     "output_type": "display_data"
    }
   ],
   "source": [
    "# show learning curves\n",
    "plt.figure(figsize=(12, 5))\n",
    "\n",
    "# plot accuracy\n",
    "plt.subplot(1, 2, 1)\n",
    "plt.plot(history.history['accuracy'], label='Training')\n",
    "plt.plot(history.history['val_accuracy'], label='Validation')\n",
    "plt.title('GRU - Accuracy')\n",
    "plt.xlabel('Epoch')\n",
    "plt.ylabel('Accuracy')\n",
    "plt.legend()\n",
    "\n",
    "# plot loss\n",
    "plt.subplot(1, 2, 2)\n",
    "plt.plot(history.history['loss'], label='Training')\n",
    "plt.plot(history.history['val_loss'], label='Validation')\n",
    "plt.title('GRU - Loss')\n",
    "plt.xlabel('Epoch')\n",
    "plt.ylabel('Loss')\n",
    "plt.legend()\n",
    "\n",
    "plt.tight_layout()\n",
    "plt.show()"
   ]
  },
  {
   "cell_type": "markdown",
   "id": "a3c51b6a",
   "metadata": {
    "_cell_guid": "62bb2dd4-e823-4b57-8f5a-df52f818675d",
    "_uuid": "8fa4d3b4-7215-47b7-bdc7-9dff66d9ab07",
    "collapsed": false,
    "jupyter": {
     "outputs_hidden": false
    },
    "papermill": {
     "duration": 0.057038,
     "end_time": "2025-04-19T07:21:27.981460",
     "exception": false,
     "start_time": "2025-04-19T07:21:27.924422",
     "status": "completed"
    },
    "tags": []
   },
   "source": [
    "## 11 Evaluate Model"
   ]
  },
  {
   "cell_type": "code",
   "execution_count": 21,
   "id": "a842b46e",
   "metadata": {
    "_cell_guid": "e91d5bc4-2674-46e5-b854-af0b6456b816",
    "_uuid": "98df5921-55cf-4cf0-95da-35edf092124d",
    "collapsed": false,
    "execution": {
     "iopub.execute_input": "2025-04-19T07:21:28.074232Z",
     "iopub.status.busy": "2025-04-19T07:21:28.073915Z",
     "iopub.status.idle": "2025-04-19T07:21:29.467930Z",
     "shell.execute_reply": "2025-04-19T07:21:29.467039Z"
    },
    "jupyter": {
     "outputs_hidden": false
    },
    "papermill": {
     "duration": 1.433181,
     "end_time": "2025-04-19T07:21:29.469803",
     "exception": false,
     "start_time": "2025-04-19T07:21:28.036622",
     "status": "completed"
    },
    "tags": []
   },
   "outputs": [
    {
     "name": "stdout",
     "output_type": "stream",
     "text": [
      "\u001b[1m24/24\u001b[0m \u001b[32m━━━━━━━━━━━━━━━━━━━━\u001b[0m\u001b[37m\u001b[0m \u001b[1m1s\u001b[0m 40ms/step\n"
     ]
    }
   ],
   "source": [
    "# Evaluate model on validation set\n",
    "y_pred_proba = gru_model.predict(X_val, batch_size=BATCH_SIZE)\n",
    "y_pred = (y_pred_proba > 0.5).astype(int).flatten()"
   ]
  },
  {
   "cell_type": "code",
   "execution_count": 22,
   "id": "be679014",
   "metadata": {
    "_cell_guid": "1220796f-d39e-4b75-b3ba-5549f9e9cc1d",
    "_uuid": "72ec088c-a8fb-41a1-9c3d-c89ed4464a8f",
    "collapsed": false,
    "execution": {
     "iopub.execute_input": "2025-04-19T07:21:29.545046Z",
     "iopub.status.busy": "2025-04-19T07:21:29.544716Z",
     "iopub.status.idle": "2025-04-19T07:21:29.555867Z",
     "shell.execute_reply": "2025-04-19T07:21:29.554819Z"
    },
    "jupyter": {
     "outputs_hidden": false
    },
    "papermill": {
     "duration": 0.050284,
     "end_time": "2025-04-19T07:21:29.557561",
     "exception": false,
     "start_time": "2025-04-19T07:21:29.507277",
     "status": "completed"
    },
    "tags": []
   },
   "outputs": [
    {
     "name": "stdout",
     "output_type": "stream",
     "text": [
      "\n",
      "GRU Model Evaluation Results:\n",
      "Validation Accuracy: 0.7879\n",
      "Validation F1 Score: 0.7346\n"
     ]
    }
   ],
   "source": [
    "# Calculate metrics\n",
    "accuracy = np.mean(y_pred == y_val)\n",
    "f1 = f1_score(y_val, y_pred)\n",
    "cm = confusion_matrix(y_val, y_pred)\n",
    "\n",
    "print(\"\\nGRU Model Evaluation Results:\")\n",
    "print(f\"Validation Accuracy: {accuracy:.4f}\")\n",
    "print(f\"Validation F1 Score: {f1:.4f}\")"
   ]
  },
  {
   "cell_type": "code",
   "execution_count": 23,
   "id": "e059b739",
   "metadata": {
    "_cell_guid": "ca34cf60-716e-424f-96f2-13487cbeb189",
    "_uuid": "392f9601-ccec-45b6-b0fc-e2226b056de4",
    "collapsed": false,
    "execution": {
     "iopub.execute_input": "2025-04-19T07:21:29.631105Z",
     "iopub.status.busy": "2025-04-19T07:21:29.630694Z",
     "iopub.status.idle": "2025-04-19T07:21:29.645626Z",
     "shell.execute_reply": "2025-04-19T07:21:29.644099Z"
    },
    "jupyter": {
     "outputs_hidden": false
    },
    "papermill": {
     "duration": 0.053542,
     "end_time": "2025-04-19T07:21:29.647140",
     "exception": false,
     "start_time": "2025-04-19T07:21:29.593598",
     "status": "completed"
    },
    "tags": []
   },
   "outputs": [
    {
     "name": "stdout",
     "output_type": "stream",
     "text": [
      "\n",
      "Classification Report:\n",
      "              precision    recall  f1-score   support\n",
      "\n",
      "Not Disaster       0.78      0.87      0.82       869\n",
      "    Disaster       0.79      0.68      0.73       654\n",
      "\n",
      "    accuracy                           0.79      1523\n",
      "   macro avg       0.79      0.77      0.78      1523\n",
      "weighted avg       0.79      0.79      0.79      1523\n",
      "\n"
     ]
    }
   ],
   "source": [
    "# Print classification report\n",
    "print(\"\\nClassification Report:\")\n",
    "print(classification_report(y_val, y_pred, target_names=['Not Disaster', 'Disaster']))"
   ]
  },
  {
   "cell_type": "code",
   "execution_count": 24,
   "id": "c1d4c931",
   "metadata": {
    "_cell_guid": "92e1ea69-53e5-433d-aee8-48c3d6e2d5d6",
    "_uuid": "de1fcfa3-e5d3-4be7-9126-d94c773f5384",
    "collapsed": false,
    "execution": {
     "iopub.execute_input": "2025-04-19T07:21:29.722932Z",
     "iopub.status.busy": "2025-04-19T07:21:29.722500Z",
     "iopub.status.idle": "2025-04-19T07:21:29.939275Z",
     "shell.execute_reply": "2025-04-19T07:21:29.938396Z"
    },
    "jupyter": {
     "outputs_hidden": false
    },
    "papermill": {
     "duration": 0.257521,
     "end_time": "2025-04-19T07:21:29.941002",
     "exception": false,
     "start_time": "2025-04-19T07:21:29.683481",
     "status": "completed"
    },
    "tags": []
   },
   "outputs": [
    {
     "data": {
      "image/png": "[encoded data removed]",
      "text/plain": [
       "<Figure size 800x600 with 2 Axes>"
      ]
     },
     "metadata": {},
     "output_type": "display_data"
    }
   ],
   "source": [
    "# Plot confusion matrix\n",
    "plt.figure(figsize=(8, 6))\n",
    "sns.heatmap(cm, annot=True, fmt='d', cmap='Blues', \n",
    "            xticklabels=['Not Disaster', 'Disaster'],\n",
    "            yticklabels=['Not Disaster', 'Disaster'])\n",
    "plt.title('GRU - Confusion Matrix')\n",
    "plt.xlabel('Predicted')\n",
    "plt.ylabel('Actual')\n",
    "plt.tight_layout()\n",
    "plt.show()"
   ]
  },
  {
   "cell_type": "markdown",
   "id": "0513f0ad",
   "metadata": {
    "_cell_guid": "2f9e1a31-e8ca-4c6a-99d4-0d368af62c2c",
    "_uuid": "0a3a3f29-d7fc-4587-afb2-04d4b296d006",
    "collapsed": false,
    "jupyter": {
     "outputs_hidden": false
    },
    "papermill": {
     "duration": 0.038927,
     "end_time": "2025-04-19T07:21:30.020264",
     "exception": false,
     "start_time": "2025-04-19T07:21:29.981337",
     "status": "completed"
    },
    "tags": []
   },
   "source": [
    "## 12 Tune Hyperparameters"
   ]
  },
  {
   "cell_type": "markdown",
   "id": "8406a079",
   "metadata": {
    "_cell_guid": "aa0721dc-e693-4975-80e3-4ce2c1cc6308",
    "_uuid": "847c0969-97c3-421d-ae15-29b4294880b9",
    "collapsed": false,
    "jupyter": {
     "outputs_hidden": false
    },
    "papermill": {
     "duration": 0.038359,
     "end_time": "2025-04-19T07:21:30.097418",
     "exception": false,
     "start_time": "2025-04-19T07:21:30.059059",
     "status": "completed"
    },
    "tags": []
   },
   "source": [
    "For computational efficiency and as a simple test of hyperparameter tuning, I included 2 more combinations of embedding dimensions, GRU units, and dropout rates."
   ]
  },
  {
   "cell_type": "code",
   "execution_count": 25,
   "id": "f9c73089",
   "metadata": {
    "_cell_guid": "687cace6-4725-49ab-a960-77d976c6db73",
    "_uuid": "27cfb57c-337d-480c-ba42-8b26cd68ecd2",
    "collapsed": false,
    "execution": {
     "iopub.execute_input": "2025-04-19T07:21:30.178074Z",
     "iopub.status.busy": "2025-04-19T07:21:30.177699Z",
     "iopub.status.idle": "2025-04-19T07:21:30.183470Z",
     "shell.execute_reply": "2025-04-19T07:21:30.182484Z"
    },
    "jupyter": {
     "outputs_hidden": false
    },
    "papermill": {
     "duration": 0.048734,
     "end_time": "2025-04-19T07:21:30.185093",
     "exception": false,
     "start_time": "2025-04-19T07:21:30.136359",
     "status": "completed"
    },
    "tags": []
   },
   "outputs": [],
   "source": [
    "hyperparams = [\n",
    "    {'embedding_dim': 128, 'units': 64, 'dropout': 0.2},   # baseline\n",
    "    {'embedding_dim': 128, 'units': 128, 'dropout': 0.3},  # increased units, higher dropout\n",
    "    {'embedding_dim': 200, 'units': 100, 'dropout': 0.4},  # larger embedding, medium units, high dropout\n",
    "    {'embedding_dim': 256, 'units': 64, 'dropout': 0.2},   # larger embedding, baseline units & dropout\n",
    "    {'embedding_dim': 100, 'units': 32, 'dropout': 0.1},   # smoller model\n",
    "    {'embedding_dim': 150, 'units': 150, 'dropout': 0.3}   # equal embedding and units\n",
    "]\n",
    "fine_tuned_models = []"
   ]
  },
  {
   "cell_type": "code",
   "execution_count": 26,
   "id": "a7e467a2",
   "metadata": {
    "_cell_guid": "ecf9299e-9c3e-4002-a9e2-528eb4eefa82",
    "_uuid": "04f99acf-68f1-4573-8e67-6b38f184a9bb",
    "collapsed": false,
    "execution": {
     "iopub.execute_input": "2025-04-19T07:21:30.262189Z",
     "iopub.status.busy": "2025-04-19T07:21:30.261835Z",
     "iopub.status.idle": "2025-04-19T07:28:49.284366Z",
     "shell.execute_reply": "2025-04-19T07:28:49.283074Z"
    },
    "jupyter": {
     "outputs_hidden": false
    },
    "papermill": {
     "duration": 439.062743,
     "end_time": "2025-04-19T07:28:49.285985",
     "exception": false,
     "start_time": "2025-04-19T07:21:30.223242",
     "status": "completed"
    },
    "tags": []
   },
   "outputs": [
    {
     "name": "stdout",
     "output_type": "stream",
     "text": [
      "\n",
      "Training model with hyperparameters: {'embedding_dim': 128, 'units': 64, 'dropout': 0.2}\n",
      "Epoch 1/10\n",
      "\u001b[1m96/96\u001b[0m \u001b[32m━━━━━━━━━━━━━━━━━━━━\u001b[0m\u001b[37m\u001b[0m \u001b[1m0s\u001b[0m 101ms/step - accuracy: 0.5998 - loss: 0.6580\n",
      "Epoch 1: val_loss did not improve from 0.49012\n",
      "\u001b[1m96/96\u001b[0m \u001b[32m━━━━━━━━━━━━━━━━━━━━\u001b[0m\u001b[37m\u001b[0m \u001b[1m15s\u001b[0m 111ms/step - accuracy: 0.6005 - loss: 0.6574 - val_accuracy: 0.7649 - val_loss: 0.5199 - learning_rate: 0.0010\n",
      "Epoch 2/10\n",
      "\u001b[1m96/96\u001b[0m \u001b[32m━━━━━━━━━━━━━━━━━━━━\u001b[0m\u001b[37m\u001b[0m \u001b[1m0s\u001b[0m 105ms/step - accuracy: 0.8478 - loss: 0.3745\n",
      "Epoch 2: val_loss did not improve from 0.49012\n",
      "\u001b[1m96/96\u001b[0m \u001b[32m━━━━━━━━━━━━━━━━━━━━\u001b[0m\u001b[37m\u001b[0m \u001b[1m11s\u001b[0m 111ms/step - accuracy: 0.8478 - loss: 0.3746 - val_accuracy: 0.7689 - val_loss: 0.4925 - learning_rate: 0.0010\n",
      "Epoch 3/10\n",
      "\u001b[1m96/96\u001b[0m \u001b[32m━━━━━━━━━━━━━━━━━━━━\u001b[0m\u001b[37m\u001b[0m \u001b[1m0s\u001b[0m 100ms/step - accuracy: 0.8951 - loss: 5075.5786\n",
      "Epoch 3: val_loss did not improve from 0.49012\n",
      "\u001b[1m96/96\u001b[0m \u001b[32m━━━━━━━━━━━━━━━━━━━━\u001b[0m\u001b[37m\u001b[0m \u001b[1m10s\u001b[0m 107ms/step - accuracy: 0.8947 - loss: 5170.8066 - val_accuracy: 0.7091 - val_loss: 0.5621 - learning_rate: 0.0010\n",
      "Epoch 4/10\n",
      "\u001b[1m96/96\u001b[0m \u001b[32m━━━━━━━━━━━━━━━━━━━━\u001b[0m\u001b[37m\u001b[0m \u001b[1m0s\u001b[0m 101ms/step - accuracy: 0.8170 - loss: 5.3973\n",
      "Epoch 4: val_loss did not improve from 0.49012\n",
      "\n",
      "Epoch 4: ReduceLROnPlateau reducing learning rate to 0.0005000000237487257.\n",
      "\u001b[1m96/96\u001b[0m \u001b[32m━━━━━━━━━━━━━━━━━━━━\u001b[0m\u001b[37m\u001b[0m \u001b[1m21s\u001b[0m 108ms/step - accuracy: 0.8171 - loss: 5.3740 - val_accuracy: 0.7209 - val_loss: 0.5514 - learning_rate: 0.0010\n",
      "Epoch 4: early stopping\n",
      "Restoring model weights from the end of the best epoch: 1.\n",
      "\u001b[1m24/24\u001b[0m \u001b[32m━━━━━━━━━━━━━━━━━━━━\u001b[0m\u001b[37m\u001b[0m \u001b[1m1s\u001b[0m 41ms/step\n",
      "Model 1 - Accuracy: 0.7879, F1 Score: 0.6837\n",
      "\n",
      "Training model with hyperparameters: {'embedding_dim': 128, 'units': 128, 'dropout': 0.3}\n",
      "Epoch 1/10\n",
      "\u001b[1m96/96\u001b[0m \u001b[32m━━━━━━━━━━━━━━━━━━━━\u001b[0m\u001b[37m\u001b[0m \u001b[1m0s\u001b[0m 180ms/step - accuracy: 0.6075 - loss: 156.3110\n",
      "Epoch 1: val_loss did not improve from 0.49012\n",
      "\u001b[1m96/96\u001b[0m \u001b[32m━━━━━━━━━━━━━━━━━━━━\u001b[0m\u001b[37m\u001b[0m \u001b[1m23s\u001b[0m 199ms/step - accuracy: 0.6081 - loss: 156.2798 - val_accuracy: 0.7413 - val_loss: 0.5946 - learning_rate: 0.0010\n",
      "Epoch 2/10\n",
      "\u001b[1m96/96\u001b[0m \u001b[32m━━━━━━━━━━━━━━━━━━━━\u001b[0m\u001b[37m\u001b[0m \u001b[1m0s\u001b[0m 178ms/step - accuracy: 0.7906 - loss: 8.0455\n",
      "Epoch 2: val_loss did not improve from 0.49012\n",
      "\u001b[1m96/96\u001b[0m \u001b[32m━━━━━━━━━━━━━━━━━━━━\u001b[0m\u001b[37m\u001b[0m \u001b[1m18s\u001b[0m 192ms/step - accuracy: 0.7906 - loss: 7.9993 - val_accuracy: 0.7669 - val_loss: 0.5423 - learning_rate: 0.0010\n",
      "Epoch 3/10\n",
      "\u001b[1m96/96\u001b[0m \u001b[32m━━━━━━━━━━━━━━━━━━━━\u001b[0m\u001b[37m\u001b[0m \u001b[1m0s\u001b[0m 182ms/step - accuracy: 0.8576 - loss: 60.1356\n",
      "Epoch 3: val_loss did not improve from 0.49012\n",
      "\u001b[1m96/96\u001b[0m \u001b[32m━━━━━━━━━━━━━━━━━━━━\u001b[0m\u001b[37m\u001b[0m \u001b[1m19s\u001b[0m 196ms/step - accuracy: 0.8575 - loss: 62.4800 - val_accuracy: 0.7479 - val_loss: 0.5405 - learning_rate: 0.0010\n",
      "Epoch 4/10\n",
      "\u001b[1m96/96\u001b[0m \u001b[32m━━━━━━━━━━━━━━━━━━━━\u001b[0m\u001b[37m\u001b[0m \u001b[1m0s\u001b[0m 177ms/step - accuracy: 0.8611 - loss: 471613.5625\n",
      "Epoch 4: val_loss did not improve from 0.49012\n",
      "\u001b[1m96/96\u001b[0m \u001b[32m━━━━━━━━━━━━━━━━━━━━\u001b[0m\u001b[37m\u001b[0m \u001b[1m18s\u001b[0m 191ms/step - accuracy: 0.8610 - loss: 493349.2188 - val_accuracy: 0.7308 - val_loss: 0.5621 - learning_rate: 0.0010\n",
      "Epoch 4: early stopping\n",
      "Restoring model weights from the end of the best epoch: 1.\n",
      "\u001b[1m24/24\u001b[0m \u001b[32m━━━━━━━━━━━━━━━━━━━━\u001b[0m\u001b[37m\u001b[0m \u001b[1m3s\u001b[0m 92ms/step\n",
      "Model 2 - Accuracy: 0.7879, F1 Score: 0.6556\n",
      "\n",
      "Training model with hyperparameters: {'embedding_dim': 200, 'units': 100, 'dropout': 0.4}\n",
      "Epoch 1/10\n",
      "\u001b[1m96/96\u001b[0m \u001b[32m━━━━━━━━━━━━━━━━━━━━\u001b[0m\u001b[37m\u001b[0m \u001b[1m0s\u001b[0m 178ms/step - accuracy: 0.5197 - loss: 51970542927872.0000\n",
      "Epoch 1: val_loss did not improve from 0.49012\n",
      "\u001b[1m96/96\u001b[0m \u001b[32m━━━━━━━━━━━━━━━━━━━━\u001b[0m\u001b[37m\u001b[0m \u001b[1m23s\u001b[0m 195ms/step - accuracy: 0.5197 - loss: 51552068829184.0000 - val_accuracy: 0.6408 - val_loss: 0.6808 - learning_rate: 0.0010\n",
      "Epoch 2/10\n",
      "\u001b[1m96/96\u001b[0m \u001b[32m━━━━━━━━━━━━━━━━━━━━\u001b[0m\u001b[37m\u001b[0m \u001b[1m0s\u001b[0m 181ms/step - accuracy: 0.5794 - loss: 43374858240.0000\n",
      "Epoch 2: val_loss did not improve from 0.49012\n",
      "\u001b[1m96/96\u001b[0m \u001b[32m━━━━━━━━━━━━━━━━━━━━\u001b[0m\u001b[37m\u001b[0m \u001b[1m18s\u001b[0m 192ms/step - accuracy: 0.5795 - loss: 43365883904.0000 - val_accuracy: 0.6290 - val_loss: 0.6698 - learning_rate: 0.0010\n",
      "Epoch 3/10\n",
      "\u001b[1m96/96\u001b[0m \u001b[32m━━━━━━━━━━━━━━━━━━━━\u001b[0m\u001b[37m\u001b[0m \u001b[1m0s\u001b[0m 175ms/step - accuracy: 0.6374 - loss: 25768531968.0000\n",
      "Epoch 3: val_loss did not improve from 0.49012\n",
      "\u001b[1m96/96\u001b[0m \u001b[32m━━━━━━━━━━━━━━━━━━━━\u001b[0m\u001b[37m\u001b[0m \u001b[1m18s\u001b[0m 187ms/step - accuracy: 0.6374 - loss: 25706991616.0000 - val_accuracy: 0.6264 - val_loss: 0.6608 - learning_rate: 0.0010\n",
      "Epoch 4/10\n",
      "\u001b[1m96/96\u001b[0m \u001b[32m━━━━━━━━━━━━━━━━━━━━\u001b[0m\u001b[37m\u001b[0m \u001b[1m0s\u001b[0m 183ms/step - accuracy: 0.6733 - loss: 1615897856.0000\n",
      "Epoch 4: val_loss did not improve from 0.49012\n",
      "\u001b[1m96/96\u001b[0m \u001b[32m━━━━━━━━━━━━━━━━━━━━\u001b[0m\u001b[37m\u001b[0m \u001b[1m19s\u001b[0m 196ms/step - accuracy: 0.6733 - loss: 1625261184.0000 - val_accuracy: 0.6323 - val_loss: 0.6536 - learning_rate: 0.0010\n",
      "Epoch 4: early stopping\n",
      "Restoring model weights from the end of the best epoch: 1.\n",
      "\u001b[1m24/24\u001b[0m \u001b[32m━━━━━━━━━━━━━━━━━━━━\u001b[0m\u001b[37m\u001b[0m \u001b[1m2s\u001b[0m 61ms/step\n",
      "Model 3 - Accuracy: 0.7879, F1 Score: 0.3014\n",
      "\n",
      "Training model with hyperparameters: {'embedding_dim': 256, 'units': 64, 'dropout': 0.2}\n",
      "Epoch 1/10\n",
      "\u001b[1m96/96\u001b[0m \u001b[32m━━━━━━━━━━━━━━━━━━━━\u001b[0m\u001b[37m\u001b[0m \u001b[1m0s\u001b[0m 140ms/step - accuracy: 0.6242 - loss: 6.8019\n",
      "Epoch 1: val_loss did not improve from 0.49012\n",
      "\u001b[1m96/96\u001b[0m \u001b[32m━━━━━━━━━━━━━━━━━━━━\u001b[0m\u001b[37m\u001b[0m \u001b[1m19s\u001b[0m 153ms/step - accuracy: 0.6250 - loss: 7.7350 - val_accuracy: 0.7452 - val_loss: 0.5366 - learning_rate: 0.0010\n",
      "Epoch 2/10\n",
      "\u001b[1m96/96\u001b[0m \u001b[32m━━━━━━━━━━━━━━━━━━━━\u001b[0m\u001b[37m\u001b[0m \u001b[1m0s\u001b[0m 145ms/step - accuracy: 0.8281 - loss: 25.3434\n",
      "Epoch 2: val_loss did not improve from 0.49012\n",
      "\u001b[1m96/96\u001b[0m \u001b[32m━━━━━━━━━━━━━━━━━━━━\u001b[0m\u001b[37m\u001b[0m \u001b[1m15s\u001b[0m 152ms/step - accuracy: 0.8281 - loss: 25.1984 - val_accuracy: 0.7518 - val_loss: 0.5299 - learning_rate: 0.0010\n",
      "Epoch 3/10\n",
      "\u001b[1m96/96\u001b[0m \u001b[32m━━━━━━━━━━━━━━━━━━━━\u001b[0m\u001b[37m\u001b[0m \u001b[1m0s\u001b[0m 134ms/step - accuracy: 0.8612 - loss: 0.3719\n",
      "Epoch 3: val_loss did not improve from 0.49012\n",
      "\u001b[1m96/96\u001b[0m \u001b[32m━━━━━━━━━━━━━━━━━━━━\u001b[0m\u001b[37m\u001b[0m \u001b[1m14s\u001b[0m 142ms/step - accuracy: 0.8612 - loss: 0.3718 - val_accuracy: 0.7498 - val_loss: 0.5255 - learning_rate: 0.0010\n",
      "Epoch 4/10\n",
      "\u001b[1m96/96\u001b[0m \u001b[32m━━━━━━━━━━━━━━━━━━━━\u001b[0m\u001b[37m\u001b[0m \u001b[1m0s\u001b[0m 139ms/step - accuracy: 0.8973 - loss: 0.2933\n",
      "Epoch 4: val_loss did not improve from 0.49012\n",
      "\u001b[1m96/96\u001b[0m \u001b[32m━━━━━━━━━━━━━━━━━━━━\u001b[0m\u001b[37m\u001b[0m \u001b[1m14s\u001b[0m 147ms/step - accuracy: 0.8973 - loss: 0.2933 - val_accuracy: 0.7420 - val_loss: 0.5355 - learning_rate: 0.0010\n",
      "Epoch 4: early stopping\n",
      "Restoring model weights from the end of the best epoch: 1.\n",
      "\u001b[1m24/24\u001b[0m \u001b[32m━━━━━━━━━━━━━━━━━━━━\u001b[0m\u001b[37m\u001b[0m \u001b[1m1s\u001b[0m 45ms/step\n",
      "Model 4 - Accuracy: 0.7879, F1 Score: 0.7104\n",
      "\n",
      "Training model with hyperparameters: {'embedding_dim': 100, 'units': 32, 'dropout': 0.1}\n",
      "Epoch 1/10\n",
      "\u001b[1m96/96\u001b[0m \u001b[32m━━━━━━━━━━━━━━━━━━━━\u001b[0m\u001b[37m\u001b[0m \u001b[1m0s\u001b[0m 69ms/step - accuracy: 0.5855 - loss: 0.6619\n",
      "Epoch 1: val_loss did not improve from 0.49012\n",
      "\u001b[1m96/96\u001b[0m \u001b[32m━━━━━━━━━━━━━━━━━━━━\u001b[0m\u001b[37m\u001b[0m \u001b[1m11s\u001b[0m 78ms/step - accuracy: 0.5861 - loss: 0.6614 - val_accuracy: 0.7511 - val_loss: 0.5145 - learning_rate: 0.0010\n",
      "Epoch 2/10\n",
      "\u001b[1m96/96\u001b[0m \u001b[32m━━━━━━━━━━━━━━━━━━━━\u001b[0m\u001b[37m\u001b[0m \u001b[1m0s\u001b[0m 70ms/step - accuracy: 0.8331 - loss: 0.3848\n",
      "Epoch 2: val_loss improved from 0.49012 to 0.46712, saving model to model_checkpoints/gru_best.keras\n",
      "\u001b[1m96/96\u001b[0m \u001b[32m━━━━━━━━━━━━━━━━━━━━\u001b[0m\u001b[37m\u001b[0m \u001b[1m7s\u001b[0m 75ms/step - accuracy: 0.8332 - loss: 0.3846 - val_accuracy: 0.7833 - val_loss: 0.4671 - learning_rate: 0.0010\n",
      "Epoch 3/10\n",
      "\u001b[1m96/96\u001b[0m \u001b[32m━━━━━━━━━━━━━━━━━━━━\u001b[0m\u001b[37m\u001b[0m \u001b[1m0s\u001b[0m 73ms/step - accuracy: 0.9037 - loss: 0.2495\n",
      "Epoch 3: val_loss did not improve from 0.46712\n",
      "\u001b[1m96/96\u001b[0m \u001b[32m━━━━━━━━━━━━━━━━━━━━\u001b[0m\u001b[37m\u001b[0m \u001b[1m7s\u001b[0m 77ms/step - accuracy: 0.9037 - loss: 0.2495 - val_accuracy: 0.7708 - val_loss: 0.5058 - learning_rate: 0.0010\n",
      "Epoch 4/10\n",
      "\u001b[1m96/96\u001b[0m \u001b[32m━━━━━━━━━━━━━━━━━━━━\u001b[0m\u001b[37m\u001b[0m \u001b[1m0s\u001b[0m 68ms/step - accuracy: 0.9428 - loss: 0.1640\n",
      "Epoch 4: val_loss did not improve from 0.46712\n",
      "\n",
      "Epoch 4: ReduceLROnPlateau reducing learning rate to 0.0005000000237487257.\n",
      "\u001b[1m96/96\u001b[0m \u001b[32m━━━━━━━━━━━━━━━━━━━━\u001b[0m\u001b[37m\u001b[0m \u001b[1m7s\u001b[0m 72ms/step - accuracy: 0.9428 - loss: 0.1641 - val_accuracy: 0.7420 - val_loss: 0.5710 - learning_rate: 0.0010\n",
      "Epoch 5/10\n",
      "\u001b[1m96/96\u001b[0m \u001b[32m━━━━━━━━━━━━━━━━━━━━\u001b[0m\u001b[37m\u001b[0m \u001b[1m0s\u001b[0m 68ms/step - accuracy: 0.9531 - loss: 0.1206\n",
      "Epoch 5: val_loss did not improve from 0.46712\n",
      "\u001b[1m96/96\u001b[0m \u001b[32m━━━━━━━━━━━━━━━━━━━━\u001b[0m\u001b[37m\u001b[0m \u001b[1m10s\u001b[0m 72ms/step - accuracy: 0.9531 - loss: 0.1205 - val_accuracy: 0.7525 - val_loss: 0.6024 - learning_rate: 5.0000e-04\n",
      "Epoch 6/10\n",
      "\u001b[1m96/96\u001b[0m \u001b[32m━━━━━━━━━━━━━━━━━━━━\u001b[0m\u001b[37m\u001b[0m \u001b[1m0s\u001b[0m 69ms/step - accuracy: 0.9703 - loss: 0.0866\n",
      "Epoch 6: val_loss did not improve from 0.46712\n",
      "\n",
      "Epoch 6: ReduceLROnPlateau reducing learning rate to 0.0002500000118743628.\n",
      "\u001b[1m96/96\u001b[0m \u001b[32m━━━━━━━━━━━━━━━━━━━━\u001b[0m\u001b[37m\u001b[0m \u001b[1m7s\u001b[0m 74ms/step - accuracy: 0.9703 - loss: 0.0867 - val_accuracy: 0.7479 - val_loss: 0.6434 - learning_rate: 5.0000e-04\n",
      "Epoch 6: early stopping\n",
      "Restoring model weights from the end of the best epoch: 2.\n",
      "\u001b[1m24/24\u001b[0m \u001b[32m━━━━━━━━━━━━━━━━━━━━\u001b[0m\u001b[37m\u001b[0m \u001b[1m2s\u001b[0m 56ms/step\n",
      "Model 5 - Accuracy: 0.7879, F1 Score: 0.7377\n",
      "\n",
      "Training model with hyperparameters: {'embedding_dim': 150, 'units': 150, 'dropout': 0.3}\n",
      "Epoch 1/10\n",
      "\u001b[1m96/96\u001b[0m \u001b[32m━━━━━━━━━━━━━━━━━━━━\u001b[0m\u001b[37m\u001b[0m \u001b[1m0s\u001b[0m 207ms/step - accuracy: 0.5951 - loss: 733.8163\n",
      "Epoch 1: val_loss did not improve from 0.46712\n",
      "\u001b[1m96/96\u001b[0m \u001b[32m━━━━━━━━━━━━━━━━━━━━\u001b[0m\u001b[37m\u001b[0m \u001b[1m26s\u001b[0m 228ms/step - accuracy: 0.5957 - loss: 729.2563 - val_accuracy: 0.7439 - val_loss: 0.5973 - learning_rate: 0.0010\n",
      "Epoch 2/10\n",
      "\u001b[1m96/96\u001b[0m \u001b[32m━━━━━━━━━━━━━━━━━━━━\u001b[0m\u001b[37m\u001b[0m \u001b[1m0s\u001b[0m 211ms/step - accuracy: 0.8113 - loss: 0.4621\n",
      "Epoch 2: val_loss did not improve from 0.46712\n",
      "\u001b[1m96/96\u001b[0m \u001b[32m━━━━━━━━━━━━━━━━━━━━\u001b[0m\u001b[37m\u001b[0m \u001b[1m22s\u001b[0m 227ms/step - accuracy: 0.8114 - loss: 0.4619 - val_accuracy: 0.7682 - val_loss: 0.5184 - learning_rate: 0.0010\n",
      "Epoch 3/10\n",
      "\u001b[1m96/96\u001b[0m \u001b[32m━━━━━━━━━━━━━━━━━━━━\u001b[0m\u001b[37m\u001b[0m \u001b[1m0s\u001b[0m 206ms/step - accuracy: 0.8708 - loss: 1835981.8750\n",
      "Epoch 3: val_loss did not improve from 0.46712\n",
      "\u001b[1m96/96\u001b[0m \u001b[32m━━━━━━━━━━━━━━━━━━━━\u001b[0m\u001b[37m\u001b[0m \u001b[1m22s\u001b[0m 233ms/step - accuracy: 0.8704 - loss: 1843991.7500 - val_accuracy: 0.7255 - val_loss: 0.5623 - learning_rate: 0.0010\n",
      "Epoch 4/10\n",
      "\u001b[1m96/96\u001b[0m \u001b[32m━━━━━━━━━━━━━━━━━━━━\u001b[0m\u001b[37m\u001b[0m \u001b[1m0s\u001b[0m 208ms/step - accuracy: 0.8290 - loss: 316.8706\n",
      "Epoch 4: val_loss did not improve from 0.46712\n",
      "\n",
      "Epoch 4: ReduceLROnPlateau reducing learning rate to 0.0005000000237487257.\n",
      "\u001b[1m96/96\u001b[0m \u001b[32m━━━━━━━━━━━━━━━━━━━━\u001b[0m\u001b[37m\u001b[0m \u001b[1m22s\u001b[0m 224ms/step - accuracy: 0.8289 - loss: 330.4814 - val_accuracy: 0.7341 - val_loss: 0.5549 - learning_rate: 0.0010\n",
      "Epoch 4: early stopping\n",
      "Restoring model weights from the end of the best epoch: 1.\n",
      "\u001b[1m24/24\u001b[0m \u001b[32m━━━━━━━━━━━━━━━━━━━━\u001b[0m\u001b[37m\u001b[0m \u001b[1m2s\u001b[0m 82ms/step\n",
      "Model 6 - Accuracy: 0.7879, F1 Score: 0.6803\n"
     ]
    }
   ],
   "source": [
    "for i, params in enumerate(hyperparams):\n",
    "    print(f\"\\nTraining model with hyperparameters: {params}\")\n",
    "\n",
    "    # build new model\n",
    "    model = build_gru_model(\n",
    "        embedding_dim=params['embedding_dim'],\n",
    "        units=params['units'],\n",
    "        dropout=params['dropout']\n",
    "    )\n",
    "\n",
    "    # train new model\n",
    "    model.fit(\n",
    "        train_dataset,\n",
    "        epochs=10,\n",
    "        validation_data=val_dataset,\n",
    "        callbacks=callbacks,\n",
    "        verbose=1\n",
    "    )\n",
    "    \n",
    "    # eval new model\n",
    "    y_pred_proba = model.predict(X_val, batch_size=BATCH_SIZE)\n",
    "    y_pred = (y_pred_proba > 0.5).astype(int).flatten()\n",
    "    \n",
    "    ccuracy = np.mean(y_pred == y_val)\n",
    "    f1 = f1_score(y_val, y_pred)\n",
    "    \n",
    "    fine_tuned_models.append({\n",
    "        'model': model,\n",
    "        'params': params,\n",
    "        'accuracy': accuracy,\n",
    "        'f1_score': f1\n",
    "    })\n",
    "    \n",
    "    print(f\"Model {i+1} - Accuracy: {accuracy:.4f}, F1 Score: {f1:.4f}\")"
   ]
  },
  {
   "cell_type": "code",
   "execution_count": 27,
   "id": "b2818037",
   "metadata": {
    "_cell_guid": "237ba524-f563-4aad-a92d-54a55c251ff4",
    "_uuid": "35c64380-a780-41ae-a6ea-ad4bf11fa3d9",
    "collapsed": false,
    "execution": {
     "iopub.execute_input": "2025-04-19T07:28:49.629136Z",
     "iopub.status.busy": "2025-04-19T07:28:49.628783Z",
     "iopub.status.idle": "2025-04-19T07:28:49.635971Z",
     "shell.execute_reply": "2025-04-19T07:28:49.634685Z"
    },
    "jupyter": {
     "outputs_hidden": false
    },
    "papermill": {
     "duration": 0.179437,
     "end_time": "2025-04-19T07:28:49.637364",
     "exception": false,
     "start_time": "2025-04-19T07:28:49.457927",
     "status": "completed"
    },
    "tags": []
   },
   "outputs": [
    {
     "name": "stdout",
     "output_type": "stream",
     "text": [
      "\n",
      "Best model (model 5):\n",
      "Parameters: {'embedding_dim': 100, 'units': 32, 'dropout': 0.1}\n",
      "Validation Accuracy: 0.7879\n",
      "Validation F1 Score: 0.7377\n"
     ]
    }
   ],
   "source": [
    "# pick the best model\n",
    "best_model_index = np.argmax([m['f1_score'] for m in fine_tuned_models])\n",
    "best_model = fine_tuned_models[best_model_index]\n",
    "\n",
    "print(f\"\\nBest model (model {best_model_index+1}):\")\n",
    "print(f\"Parameters: {best_model['params']}\")\n",
    "print(f\"Validation Accuracy: {best_model['accuracy']:.4f}\")\n",
    "print(f\"Validation F1 Score: {best_model['f1_score']:.4f}\")"
   ]
  },
  {
   "cell_type": "markdown",
   "id": "b30ddf06",
   "metadata": {
    "papermill": {
     "duration": 0.164832,
     "end_time": "2025-04-19T07:28:49.967113",
     "exception": false,
     "start_time": "2025-04-19T07:28:49.802281",
     "status": "completed"
    },
    "tags": []
   },
   "source": [
    "After testing multiple configurations, I can draw several conclusions about how each parameter affects performance. The sweet spot for embeddings appeared to be around 100 dimensions for this dataset size. The optimal number was 32 units, balancing complexity and generalization. A low dropout around 0.1 provided the best result, avoiding overfitting of higher dropout rates. Learning rate reduction proved essential for fine-tuning performance in later epochs. Models with more units were better at learning."
   ]
  },
  {
   "cell_type": "markdown",
   "id": "d9f4acbc",
   "metadata": {
    "_cell_guid": "edb06d4e-d3f8-46f9-8fed-3405dd956b6c",
    "_uuid": "478d7197-26e5-4365-919c-3a04a7e633eb",
    "collapsed": false,
    "jupyter": {
     "outputs_hidden": false
    },
    "papermill": {
     "duration": 0.164014,
     "end_time": "2025-04-19T07:28:50.301227",
     "exception": false,
     "start_time": "2025-04-19T07:28:50.137213",
     "status": "completed"
    },
    "tags": []
   },
   "source": [
    "## 13 Generate Predictions"
   ]
  },
  {
   "cell_type": "code",
   "execution_count": 28,
   "id": "64310cc9",
   "metadata": {
    "_cell_guid": "8cdf806f-234d-4319-a301-08cbb869f7b9",
    "_uuid": "fbb151b2-6442-4695-b0aa-a8b58ab9ac8f",
    "collapsed": false,
    "execution": {
     "iopub.execute_input": "2025-04-19T07:28:50.636424Z",
     "iopub.status.busy": "2025-04-19T07:28:50.635362Z",
     "iopub.status.idle": "2025-04-19T07:28:51.552417Z",
     "shell.execute_reply": "2025-04-19T07:28:51.550842Z"
    },
    "jupyter": {
     "outputs_hidden": false
    },
    "papermill": {
     "duration": 1.085911,
     "end_time": "2025-04-19T07:28:51.554122",
     "exception": false,
     "start_time": "2025-04-19T07:28:50.468211",
     "status": "completed"
    },
    "tags": []
   },
   "outputs": [
    {
     "name": "stdout",
     "output_type": "stream",
     "text": [
      "\u001b[1m51/51\u001b[0m \u001b[32m━━━━━━━━━━━━━━━━━━━━\u001b[0m\u001b[37m\u001b[0m \u001b[1m1s\u001b[0m 17ms/step\n",
      "\n",
      "Submission file created successfully!\n",
      "   id  target\n",
      "0   0       1\n",
      "1   2       0\n",
      "2   3       1\n",
      "3   9       0\n",
      "4  11       1\n"
     ]
    }
   ],
   "source": [
    "# predict on the test set using the best model\n",
    "test_dataset = tf.data.Dataset.from_tensor_slices(X_test).batch(BATCH_SIZE).prefetch(tf.data.experimental.AUTOTUNE)\n",
    "final_predictions_proba = best_model['model'].predict(test_dataset)\n",
    "\n",
    "final_predictions = (final_predictions_proba > 0.5).astype(int).flatten()\n",
    "\n",
    "submission = pd.DataFrame({\n",
    "    'id': test_df['id'],\n",
    "    'target': final_predictions\n",
    "})\n",
    "\n",
    "submission.to_csv('submission.csv', index=False)\n",
    "print(\"\\nSubmission file created successfully!\")\n",
    "print(submission.head())"
   ]
  },
  {
   "cell_type": "markdown",
   "id": "7b712743",
   "metadata": {
    "_cell_guid": "31477035-a6b5-42b7-b9f7-9295590f70ca",
    "_uuid": "daf08f7e-d249-4829-a6e0-c84fb5edd9f3",
    "collapsed": false,
    "jupyter": {
     "outputs_hidden": false
    },
    "papermill": {
     "duration": 0.274105,
     "end_time": "2025-04-19T07:28:52.000370",
     "exception": false,
     "start_time": "2025-04-19T07:28:51.726265",
     "status": "completed"
    },
    "tags": []
   },
   "source": [
    "## 14 Conclusion\n",
    "\n",
    "This project demonstrates the effective application of recurrent neural networks to the task of classifying disaster-related tweets. The final model achieves an F1 score of 0.73 on the test set, which indicates that it has learned patterns in the language of disaster reporting.\n",
    "\n",
    "Several factors contriuted to the project's success. Cleaning the tweet text of irelevant information like URLs, hashtags, and usernames aided in providing the model with useable data. The implementaiton of callbacks helped prevent overfitting and saved the best model overall.\n",
    "\n",
    "Despite the success in learning the patterns associated with real disaster tweets, there is room for improvement. Specifically, in future work, it would be beneficial to explore pre-trained word embeddings like Word2Vec, more advanced architectures such as bidirectional RRNNs, and cross-validation for more robust evaluation. Implementing pre-trained embeddings like GloVe or Word2Vec could potentially improve model performance since they capture broader semantic relationships from a much larger body of text than the training dataset used in this challenge."
   ]
  }
 ],
 "metadata": {
  "kaggle": {
   "accelerator": "none",
   "dataSources": [
    {
     "databundleVersionId": 869809,
     "sourceId": 17777,
     "sourceType": "competition"
    }
   ],
   "dockerImageVersionId": 31012,
   "isGpuEnabled": false,
   "isInternetEnabled": true,
   "language": "python",
   "sourceType": "notebook"
  },
  "kernelspec": {
   "display_name": "Python 3",
   "language": "python",
   "name": "python3"
  },
  "language_info": {
   "codemirror_mode": {
    "name": "ipython",
    "version": 3
   },
   "file_extension": ".py",
   "mimetype": "text/x-python",
   "name": "python",
   "nbconvert_exporter": "python",
   "pygments_lexer": "ipython3",
   "version": "3.11.11"
  },
  "papermill": {
   "default_parameters": {},
   "duration": 544.779569,
   "end_time": "2025-04-19T07:28:55.385689",
   "environment_variables": {},
   "exception": null,
   "input_path": "__notebook__.ipynb",
   "output_path": "__notebook__.ipynb",
   "parameters": {},
   "start_time": "2025-04-19T07:19:50.606120",
   "version": "2.6.0"
  }
 },
 "nbformat": 4,
 "nbformat_minor": 5
}
